{
 "cells": [
  {
   "cell_type": "code",
   "execution_count": 59,
   "metadata": {},
   "outputs": [],
   "source": [
    "%run ../app/models/model.py\n",
    "from owlready2 import *\n",
    "onto = get_ontology(\"../app/data/education.owl\").load()"
   ]
  },
  {
   "cell_type": "code",
   "execution_count": 60,
   "metadata": {},
   "outputs": [
    {
     "name": "stdout",
     "output_type": "stream",
     "text": [
      "sử dụng SPARQL để tìm tất cả các học sinh có họ bắt đầu bằng chữ L\n",
      "Lương Anh Tú 10C01\n",
      "Lâm Thanh Việt 10C02\n",
      "Lý Minh Thiện 11B03\n"
     ]
    }
   ],
   "source": [
    "print(\"sử dụng SPARQL để tìm tất cả các học sinh có họ bắt đầu bằng chữ L\")\n",
    "result = list(default_world.sparql(\"\"\"\n",
    "PREFIX s: <http://hc.com/school#>\n",
    "SELECT ?hs \n",
    "WHERE {\n",
    "    ?hs a s:HocSinh.\n",
    "    ?hs s:hoTen ?hoTen.\n",
    "    FILTER (STRSTARTS(?hoTen, \"L\")).\n",
    "}\n",
    "\"\"\"))\n",
    "for x in result: print(x[0].hoTen, x[0].hocLop.ten)"
   ]
  },
  {
   "cell_type": "code",
   "execution_count": 61,
   "metadata": {},
   "outputs": [
    {
     "name": "stdout",
     "output_type": "stream",
     "text": [
      "sử dụng SPARQL để tìm tất cả các học sinh sinh vào tháng 3\n",
      "Tăng Đình Tú 2000-03-29\n",
      "Dương Thanh Việt 2000-03-17\n",
      "Ngô Anh Khánh 2000-03-20\n",
      "Đào Anh Hải 2000-03-25\n"
     ]
    }
   ],
   "source": [
    "print(\"sử dụng SPARQL để tìm tất cả các học sinh sinh vào tháng 3\")\n",
    "result = list(default_world.sparql(\"\"\"\n",
    "PREFIX s: <http://hc.com/school#>\n",
    "SELECT ?hs \n",
    "WHERE {\n",
    "    ?hs a s:HocSinh.\n",
    "    ?hs s:ngaySinh ?ngaySinh.\n",
    "    FILTER (MONTH(?ngaySinh) = 3).\n",
    "}\n",
    "\"\"\"))\n",
    "for x in result: print(x[0].hoTen, x[0].ngaySinh)"
   ]
  },
  {
   "cell_type": "code",
   "execution_count": 62,
   "metadata": {},
   "outputs": [
    {
     "name": "stdout",
     "output_type": "stream",
     "text": [
      "sử dụng SPARQL để tìm tất cả các học sinh của lớp có tên là 10C03\n",
      "Dương Thị Hùng 10C03\n",
      "Tăng Đình Tú 10C03\n",
      "Nguyễn Hữu Quang 10C03\n",
      "Đỗ Đình Hoàng 10C03\n",
      "Dương Hồng Dũng 10C03\n"
     ]
    }
   ],
   "source": [
    "print(\"sử dụng SPARQL để tìm tất cả các học sinh của lớp có tên là 10C03\")\n",
    "result = list(default_world.sparql(\"\"\"\n",
    "PREFIX s: <http://hc.com/school#>\n",
    "SELECT ?hs \n",
    "WHERE {\n",
    "    ?hs a s:HocSinh.\n",
    "    ?hs s:hocLop ?lop.\n",
    "    ?lop s:ten \"10C03\".\n",
    "}\n",
    "\"\"\"))\n",
    "for x in result: print(x[0].hoTen, x[0].hocLop.ten)"
   ]
  },
  {
   "cell_type": "code",
   "execution_count": 63,
   "metadata": {},
   "outputs": [
    {
     "name": "stdout",
     "output_type": "stream",
     "text": [
      "sử dụng SPARQL để tìm tất cả các học sinh của lớp có uri là #11B01\n",
      "Đào Ngọc Tường 11B01\n",
      "Huỳnh Thị Việt 11B01\n",
      "Bùi Anh Việt 11B01\n",
      "Vũ Đình Tú 11B01\n",
      "Phùng Thanh Ngọc 11B01\n"
     ]
    }
   ],
   "source": [
    "print(\"sử dụng SPARQL để tìm tất cả các học sinh của lớp có uri là #11B01\")\n",
    "result = list(default_world.sparql(\"\"\"\n",
    "PREFIX s: <http://hc.com/school#>\n",
    "SELECT ?hs \n",
    "WHERE {\n",
    "    ?hs a s:HocSinh.\n",
    "    ?hs s:hocLop ?lop.\n",
    "    FILTER(STRENDS(STR(?lop), \"#11B01\")).\n",
    "}\n",
    "\"\"\"))\n",
    "for x in result: print(x[0].hoTen, x[0].hocLop.ten)"
   ]
  },
  {
   "cell_type": "code",
   "execution_count": 64,
   "metadata": {},
   "outputs": [
    {
     "name": "stdout",
     "output_type": "stream",
     "text": [
      "sử dụng SPARQL để tìm tất cả các giáo viên chủ nhiệm của từng lớp, sắp xếp theo tên lớp\n",
      "Ngô Thị Minh - Hóa học - 10C01\n",
      "Đào Hữu Thúy - Sinh học - 10C02\n",
      "Nguyễn Hoài Nam - Sinh học - 10C03\n",
      "Phan Kim Tú - Thể dục - 11B01\n",
      "Mai Kim Nhật - GDCD - 11B02\n",
      "Huỳnh Thu Thiên - Công nghệ - 11B03\n",
      "Đỗ Kim Hoàng - Toán học - 12A01\n",
      "Mai Ngọc Tú - GDCD - 12A02\n",
      "Đinh Thanh Hải - Tiếng Anh - 12A03\n"
     ]
    }
   ],
   "source": [
    "print(\"sử dụng SPARQL để tìm tất cả các giáo viên chủ nhiệm của từng lớp, sắp xếp theo tên lớp\")\n",
    "result = list(default_world.sparql(\"\"\"\n",
    "PREFIX s: <http://hc.com/school#>\n",
    "SELECT ?gv\n",
    "WHERE {\n",
    "    ?gv a s:GiaoVien.\n",
    "    ?gv s:lopChuNhiem ?lop.\n",
    "    ?lop s:ten ?tenLop.\n",
    "    FILTER(BOUND(?lop)).\n",
    "}\n",
    "ORDER BY ?tenLop\n",
    "\"\"\"))\n",
    "for x in result: print(' - '.join([x[0].hoTen, x[0].dayMon[0].ten, x[0].lopChuNhiem.ten]))"
   ]
  },
  {
   "cell_type": "code",
   "execution_count": 65,
   "metadata": {},
   "outputs": [
    {
     "name": "stdout",
     "output_type": "stream",
     "text": [
      "sử dụng SPARQL để tìm tất cả các giáo viên chủ nhiệm của từng lớp (cách 2)\n",
      "10C01 - Ngô Thị Minh\n",
      "10C02 - Đào Hữu Thúy\n",
      "10C03 - Nguyễn Hoài Nam\n",
      "11B01 - Phan Kim Tú\n",
      "11B02 - Mai Kim Nhật\n",
      "11B03 - Huỳnh Thu Thiên\n",
      "12A01 - Đỗ Kim Hoàng\n",
      "12A02 - Mai Ngọc Tú\n",
      "12A03 - Đinh Thanh Hải\n"
     ]
    }
   ],
   "source": [
    "print(\"sử dụng SPARQL để tìm tất cả các giáo viên chủ nhiệm của từng lớp (cách 2)\")\n",
    "result = list(default_world.sparql(\"\"\"\n",
    "PREFIX s: <http://hc.com/school#>\n",
    "SELECT ?lop \n",
    "WHERE {\n",
    "    ?lop a s:LopHoc.\n",
    "}\n",
    "\"\"\"))\n",
    "for x in result: print(' - '.join([x[0].ten, x[0].giaoVienChuNhiem.hoTen]))"
   ]
  },
  {
   "cell_type": "code",
   "execution_count": 66,
   "metadata": {},
   "outputs": [
    {
     "name": "stdout",
     "output_type": "stream",
     "text": [
      "sử dụng SPARQL để tìm tất cả các phụ huynh có 2 con đang học cùng trường\n",
      "\n"
     ]
    }
   ],
   "source": [
    "print(\"sử dụng SPARQL để tìm tất cả các phụ huynh có 2 con đang học cùng trường\")\n",
    "result = list(default_world.sparql(\"\"\"\n",
    "PREFIX s: <http://hc.com/school#>\n",
    "SELECT ?ph (COUNT(?hs) AS ?soCon)\n",
    "WHERE {\n",
    "    ?ph a s:Me.\n",
    "    ?ph s:con ?hs.\n",
    "}\n",
    "GROUP BY ?ph\n",
    "HAVING (COUNT(?hs) = 2)\n",
    "\"\"\"))\n",
    "print(*[f\"{x[0].hoTen} - {x[1]}\" for x in result], sep = '\\n')\n",
    "lst = list(map(lambda ph: [ph[0].hoTen, ph[0].con[0].hoTen, ph[0].con[1].hoTen], result))# Lấy họ tên phụ huynh và các con\n",
    "lst.sort(key = lambda x:x[2]) # Sắp xếp theo tên con thứ 2\n",
    "new_lst = [[a[0], b[0], a[1], a[2]] for a, b in zip(lst[::2], lst[1::2])] # Ghép lại theo cặp\n",
    "for x in new_lst: print(f\"({x[0]} + {x[1]}) = Con 1: {x[2]} - Con 2: {x[3]}\")"
   ]
  },
  {
   "cell_type": "code",
   "execution_count": 67,
   "metadata": {},
   "outputs": [
    {
     "name": "stdout",
     "output_type": "stream",
     "text": [
      "sử dụng SPARQL để liệt kê các Giáo viên dạy môn Toán theo thứ tự tên\n",
      "Đỗ Kim Hoàng\n",
      "Đào Hữu Quân\n",
      "Ngô Thu Quỳnh\n",
      "Tôn Hoài Thiện\n"
     ]
    }
   ],
   "source": [
    "print(\"sử dụng SPARQL để liệt kê các Giáo viên dạy môn Toán theo thứ tự tên\")\n",
    "result = list(default_world.sparql(\"\"\"\n",
    "PREFIX s: <http://hc.com/school#>\n",
    "SELECT ?gv ?ten\n",
    "WHERE {\n",
    "    ?gv a s:GiaoVien.\n",
    "    ?gv s:dayMon ?mon.\n",
    "    ?mon s:ten \"Toán học\".\n",
    "    ?gv s:hoTen ?hoTen.\n",
    "    BIND(strafter(strafter(?hoTen, \" \"), \" \") AS ?ten) .\n",
    "}\n",
    "ORDER BY ?ten\n",
    "\"\"\"))\n",
    "for x in result: print(x[0].hoTen)\n"
   ]
  },
  {
   "cell_type": "code",
   "execution_count": 68,
   "metadata": {},
   "outputs": [
    {
     "name": "stdout",
     "output_type": "stream",
     "text": [
      "sử dụng SPARQL để liệt kê các Giáo viên dạy lớp 10C03 theo thứ tự tên môn học\n",
      "Đinh Thị Nhật Công nghệ 10C03\n",
      "Mai Ngọc Tú GDCD 10C03\n",
      "Dương Thị Việt Hóa học 10C03\n",
      "Đinh Thu Nhật Lịch sử 10C03\n",
      "Tạ Kim Việt Ngữ văn 10C03\n",
      "Đào Hữu Thúy Sinh học 10C03\n",
      "Phan Kim Tú Thể dục 10C03\n",
      "Nguyễn Thu Thảo Tiếng Anh 10C03\n",
      "Ngô Thu Quỳnh Toán học 10C03\n",
      "Quách Anh Xuân Địa lý 10C03\n"
     ]
    }
   ],
   "source": [
    "print(\"sử dụng SPARQL để liệt kê các Giáo viên dạy lớp 10C03 theo thứ tự tên môn học\")\n",
    "result = list(default_world.sparql(\"\"\"\n",
    "PREFIX s: <http://hc.com/school#>\n",
    "SELECT ?day\n",
    "WHERE {\n",
    "    ?day a s:GiangDay.\n",
    "    ?day s:lopHoc ?lop.\n",
    "    ?lop s:ten \"10C03\".\n",
    "    ?day s:monHoc ?mon.\n",
    "    ?mon s:ten ?tenMon.\n",
    "}\n",
    "ORDER BY ?tenMon\n",
    "\"\"\"))\n",
    "for x in result: print(x[0].giaoVien.hoTen, x[0].monHoc.ten, x[0].lopHoc.ten)"
   ]
  },
  {
   "cell_type": "code",
   "execution_count": 69,
   "metadata": {},
   "outputs": [
    {
     "name": "stdout",
     "output_type": "stream",
     "text": [
      "sử dụng SPARQL để tìm tất cả các gv dạy 2 môn\n",
      "Vũ Quý Hiền 2 ['Ngữ văn', 'Tiếng Anh']\n",
      "Lý Văn Việt 2 ['Hóa học', 'Địa lý']\n",
      "Tôn Hoài Thiện 2 ['Toán học', 'Tiếng Anh']\n",
      "Tăng Hoài An 2 ['Sinh học', 'Công nghệ']\n",
      "Tôn Ngọc Hoàng 2 ['Công nghệ', 'Thể dục']\n"
     ]
    }
   ],
   "source": [
    "print(\"sử dụng SPARQL để tìm tất cả các gv dạy 2 môn\")\n",
    "result = list(default_world.sparql(\"\"\"\n",
    "PREFIX s: <http://hc.com/school#>\n",
    "SELECT ?gv (COUNT(?day) AS ?soMon)\n",
    "WHERE {\n",
    "    ?gv a s:GiaoVien.\n",
    "    ?gv s:dayMon ?day.\n",
    "}\n",
    "GROUP BY ?gv\n",
    "HAVING (COUNT(?day) > 1)\n",
    "\"\"\"))\n",
    "for x in result: print(x[0].hoTen, x[1], [mon.ten for mon in x[0].dayMon])"
   ]
  }
 ],
 "metadata": {
  "kernelspec": {
   "display_name": "OpenCV",
   "language": "python",
   "name": "python3"
  },
  "language_info": {
   "codemirror_mode": {
    "name": "ipython",
    "version": 3
   },
   "file_extension": ".py",
   "mimetype": "text/x-python",
   "name": "python",
   "nbconvert_exporter": "python",
   "pygments_lexer": "ipython3",
   "version": "3.9.16"
  },
  "orig_nbformat": 4
 },
 "nbformat": 4,
 "nbformat_minor": 2
}
