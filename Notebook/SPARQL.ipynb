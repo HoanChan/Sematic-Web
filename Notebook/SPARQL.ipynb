{
 "cells": [
  {
   "cell_type": "code",
   "execution_count": 3,
   "metadata": {},
   "outputs": [],
   "source": [
    "%run ../app/models/model.py\n",
    "from owlready2 import *\n",
    "onto = get_ontology(\"../app/data/education.owl\").load()"
   ]
  },
  {
   "cell_type": "code",
   "execution_count": 4,
   "metadata": {},
   "outputs": [
    {
     "name": "stdout",
     "output_type": "stream",
     "text": [
      "sử dụng SPARQL để tìm tất cả các học sinh có họ Lê\n",
      "Lê Thanh Minh\n",
      "Lê Ngọc Sơn\n",
      "Lê Thị Long\n",
      "Lê Đình Nam\n"
     ]
    }
   ],
   "source": [
    "print(\"sử dụng SPARQL để tìm tất cả các học sinh có họ Lê\")\n",
    "result = list(default_world.sparql(\"\"\"\n",
    "PREFIX s: <http://hc.com/school#>\n",
    "SELECT ?hs \n",
    "WHERE {\n",
    "    ?hs a s:HocSinh.\n",
    "    ?hs s:hoTen ?hoTen.\n",
    "    FILTER (STRSTARTS(?hoTen, \"Lê\")).\n",
    "}\n",
    "\"\"\"))\n",
    "for x in result: print(x[0].hoTen)"
   ]
  },
  {
   "cell_type": "code",
   "execution_count": 5,
   "metadata": {},
   "outputs": [
    {
     "name": "stdout",
     "output_type": "stream",
     "text": [
      "sử dụng SPARQL để tìm tất cả các học sinh sinh vào tháng 3\n",
      "Ngô Mai Việt 19/03/2000\n",
      "Nguyễn Hoài Linh 31/03/2000\n",
      "Hồ Hữu Dũng 16/03/2000\n",
      "Tạ Hoài Nam 29/03/2000\n"
     ]
    }
   ],
   "source": [
    "print(\"sử dụng SPARQL để tìm tất cả các học sinh sinh vào tháng 3\")\n",
    "result = list(default_world.sparql(\"\"\"\n",
    "PREFIX s: <http://hc.com/school#>\n",
    "SELECT ?hs \n",
    "WHERE {\n",
    "    ?hs a s:HocSinh.\n",
    "    ?hs s:ngaySinh ?ngaySinh.\n",
    "    FILTER (REGEX(?ngaySinh, \".*/03/.*\", \"i\")).\n",
    "}\n",
    "\"\"\"))\n",
    "for x in result: print(x[0].hoTen, x[0].ngaySinh)"
   ]
  },
  {
   "cell_type": "code",
   "execution_count": 6,
   "metadata": {},
   "outputs": [
    {
     "name": "stdout",
     "output_type": "stream",
     "text": [
      "sử dụng SPARQL để tìm tất cả các học sinh của lớp có tên là 10C03\n",
      "Tăng Thu Tùng 10C03\n",
      "Dương Thị Cường 10C03\n",
      "Tôn Mai Việt 10C03\n",
      "Quách Mai Thiện 10C03\n",
      "Ngô Mai Việt 10C03\n",
      "Lê Thị Long 10C03\n",
      "Hồ Thu Phương 10C03\n",
      "Phạm Thị Hùng 10C03\n",
      "Võ Thanh Minh 10C03\n",
      "Tôn Thu Thiện 10C03\n"
     ]
    }
   ],
   "source": [
    "print(\"sử dụng SPARQL để tìm tất cả các học sinh của lớp có tên là 10C03\")\n",
    "result = list(default_world.sparql(\"\"\"\n",
    "PREFIX s: <http://hc.com/school#>\n",
    "SELECT ?hs \n",
    "WHERE {\n",
    "    ?hs a s:HocSinh.\n",
    "    ?hs s:hocLop ?lop.\n",
    "    ?lop s:ten \"10C03\".\n",
    "}\n",
    "\"\"\"))\n",
    "for x in result: print(x[0].hoTen, x[0].hocLop.ten)"
   ]
  },
  {
   "cell_type": "code",
   "execution_count": 7,
   "metadata": {},
   "outputs": [
    {
     "name": "stdout",
     "output_type": "stream",
     "text": [
      "sử dụng SPARQL để tìm tất cả các học sinh của lớp có uri là #lophoc1\n",
      "Bùi Hữu Nam 10C01\n",
      "Tăng Thanh Hoàng 10C01\n",
      "Mai Kim Dũng 10C01\n",
      "Đào Anh Xuân 10C01\n",
      "Lê Thanh Minh 10C01\n"
     ]
    }
   ],
   "source": [
    "print(\"sử dụng SPARQL để tìm tất cả các học sinh của lớp có uri là #lophoc1\")\n",
    "result = list(default_world.sparql(\"\"\"\n",
    "PREFIX s: <http://hc.com/school#>\n",
    "SELECT ?hs \n",
    "WHERE {\n",
    "    ?hs a s:HocSinh.\n",
    "    ?hs s:hocLop ?lop.\n",
    "    FILTER(STRENDS(STR(?lop), \"#lophoc1\")).\n",
    "}\n",
    "\"\"\"))\n",
    "for x in result: print(x[0].hoTen, x[0].hocLop.ten)"
   ]
  },
  {
   "cell_type": "code",
   "execution_count": 8,
   "metadata": {},
   "outputs": [
    {
     "name": "stdout",
     "output_type": "stream",
     "text": [
      "sử dụng SPARQL để tìm tất cả các giáo viên chủ nhiệm của từng lớp, sắp xếp theo tên lớp\n",
      "Đoàn Mai Quang - Hóa học - 10C01\n",
      "Bùi Hữu Ngọc - GDCD - 10C01\n",
      "Tạ Hồng Tú - Lịch sử - 10C02\n",
      "Tạ Văn Bình - Lịch sử - 10C02\n",
      "Đào Bảo Ngọc - Hóa học - 10C03\n",
      "Ngô Hoài Hùng - Tiếng Anh - 10C03\n",
      "Dương Bảo Dũng - Toán học - 11B01\n",
      "Nguyễn Thanh Quân - Toán học - 11B01\n",
      "Lý Bảo Quân - Hóa học - 11B02\n",
      "Đỗ Đình Sơn - GDCD - 11B02\n",
      "Quách Hữu Cường - Sinh học - 11B03\n",
      "Vũ Mai Thiện - Công nghệ - 11B03\n",
      "Tăng Hoài Hiền - Lịch sử - 12A01\n",
      "Bành Thu Ngọc - Tiếng Anh - 12A01\n",
      "Đinh Thị Cường - Toán học - 12A02\n",
      "Đoàn Kim Hải - Hóa học - 12A02\n",
      "Trương Thu Quang - Tiếng Anh - 12A03\n",
      "Quách Ngọc Quân - Sinh học - 12A03\n"
     ]
    }
   ],
   "source": [
    "print(\"sử dụng SPARQL để tìm tất cả các giáo viên chủ nhiệm của từng lớp, sắp xếp theo tên lớp\")\n",
    "result = list(default_world.sparql(\"\"\"\n",
    "PREFIX s: <http://hc.com/school#>\n",
    "SELECT ?gv\n",
    "WHERE {\n",
    "    ?gv a s:GiaoVien.\n",
    "    ?gv s:lopChuNhiem ?lop.\n",
    "    ?lop s:ten ?tenLop.\n",
    "    FILTER(BOUND(?lop)).\n",
    "}\n",
    "ORDER BY ?tenLop\n",
    "\"\"\"))\n",
    "for x in result: print(' - '.join([x[0].hoTen, x[0].dayMon[0].ten, x[0].lopChuNhiem.ten]))"
   ]
  },
  {
   "cell_type": "code",
   "execution_count": 9,
   "metadata": {},
   "outputs": [
    {
     "name": "stdout",
     "output_type": "stream",
     "text": [
      "sử dụng SPARQL để tìm tất cả các giáo viên chủ nhiệm của từng lớp (cách 2)\n",
      "10C01 - Đoàn Mai Quang\n",
      "10C02 - Tạ Hồng Tú\n",
      "10C03 - Đào Bảo Ngọc\n",
      "11B01 - Dương Bảo Dũng\n",
      "11B02 - Lý Bảo Quân\n",
      "11B03 - Quách Hữu Cường\n",
      "12A01 - Tăng Hoài Hiền\n",
      "12A02 - Đinh Thị Cường\n",
      "12A03 - Trương Thu Quang\n",
      "12A01 - Bành Thu Ngọc\n",
      "11B02 - Đỗ Đình Sơn\n",
      "10C01 - Bùi Hữu Ngọc\n",
      "10C02 - Tạ Văn Bình\n",
      "10C03 - Ngô Hoài Hùng\n",
      "11B01 - Nguyễn Thanh Quân\n",
      "11B03 - Vũ Mai Thiện\n",
      "12A02 - Đoàn Kim Hải\n",
      "12A03 - Quách Ngọc Quân\n"
     ]
    }
   ],
   "source": [
    "print(\"sử dụng SPARQL để tìm tất cả các giáo viên chủ nhiệm của từng lớp (cách 2)\")\n",
    "result = list(default_world.sparql(\"\"\"\n",
    "PREFIX s: <http://hc.com/school#>\n",
    "SELECT ?lop \n",
    "WHERE {\n",
    "    ?lop a s:LopHoc.\n",
    "}\n",
    "\"\"\"))\n",
    "for x in result: print(' - '.join([x[0].ten, x[0].giaoVienChuNhiem.hoTen]))"
   ]
  },
  {
   "cell_type": "code",
   "execution_count": 10,
   "metadata": {},
   "outputs": [
    {
     "name": "stdout",
     "output_type": "stream",
     "text": [
      "sử dụng SPARQL để tìm tất cả các phụ huynh có 2 con đang học cùng trường\n",
      "(Đào Hồng Quân + Dương Hoài Xuân) = Con 1: Đào Anh Xuân - Con 2: Bành Anh Quân\n",
      "(Hồ Văn Linh + Tô Hữu Hiền) = Con 1: Phạm Mai Nhật - Con 2: Bùi Bảo Tùng\n",
      "(Đào Kim Ngọc + Đinh Quý Quang) = Con 1: Lê Ngọc Sơn - Con 2: Hồ Mai Tùng\n",
      "(Mai Bảo Bình + Ngô Anh Hải) = Con 1: Dương Đình An - Con 2: Lê Thị Long\n",
      "(Lâm Thanh Khánh + Tăng Văn Tú) = Con 1: Bành Quý Long - Con 2: Lê Đình Nam\n",
      "(Hồ Minh Thiên + Lâm Bảo Dũng) = Con 1: Tăng Thanh Hoàng - Con 2: Mai Kim Dũng\n",
      "(Lê Hồng Nhật + Tôn Mai Thúy) = Con 1: Đào Thu Xuân - Con 2: Phan Mai Quân\n",
      "(Bành Minh Quỳnh + Bành Thu Thuận) = Con 1: Lâm Đình Hùng - Con 2: Phạm Bảo An\n",
      "(Trương Bảo Ngọc + Trần Văn Ngọc) = Con 1: Tăng Bảo Khánh - Con 2: Phạm Văn Quỳnh\n",
      "(Đoàn Minh Thuận + Trần Minh Long) = Con 1: Bùi Hữu Nam - Con 2: Quách Quý Quỳnh\n",
      "(Lương Minh Việt + Bành Đình Việt) = Con 1: Võ Văn Phương - Con 2: Trần Anh Hải\n",
      "(Lý Thu An + Bùi Hữu Phương) = Con 1: Tôn Mai Việt - Con 2: Tăng Bảo Tùng\n",
      "(Dương Minh Linh + Đặng Thị Tú) = Con 1: Lê Thanh Minh - Con 2: Tăng Thu Tùng\n",
      "(Tôn Mai Bình + Đoàn Hoài Vinh) = Con 1: Trương Thị Hiền - Con 2: Tạ Hoài Nam\n",
      "(Tạ Anh Bình + Mai Minh Nhật) = Con 1: Lâm Văn Tùng - Con 2: Tạ Hữu Sơn\n",
      "(Thái Thị Vinh + Nguyễn Thị Quang) = Con 1: Hoàng Đình Nam - Con 2: Vũ Quý Hải\n",
      "(Huỳnh Mai Hùng + Bành Thu Thảo) = Con 1: Phùng Quý Dũng - Con 2: Đoàn Ngọc Xuân\n",
      "(Bành Minh Dũng + Đào Văn Linh) = Con 1: Bành Văn Long - Con 2: Đặng Hoài Thúy\n"
     ]
    }
   ],
   "source": [
    "print(\"sử dụng SPARQL để tìm tất cả các phụ huynh có 2 con đang học cùng trường\")\n",
    "result = list(default_world.sparql(\"\"\"\n",
    "PREFIX s: <http://hc.com/school#>\n",
    "SELECT ?ph (COUNT(?hs) AS ?soCon)\n",
    "WHERE {\n",
    "    ?ph a s:PhuHuynh.\n",
    "    ?ph s:con ?hs.\n",
    "}\n",
    "GROUP BY ?ph\n",
    "HAVING (COUNT(?hs) = 2)\n",
    "\"\"\"))\n",
    "lst = list(map(lambda ph: [ph[0].hoTen, ph[0].con[0].hoTen, ph[0].con[1].hoTen], result))# Lấy họ tên phụ huynh và các con\n",
    "lst.sort(key = lambda x:x[2]) # Sắp xếp theo tên con thứ 2\n",
    "new_lst = [[a[0], b[0], a[1], a[2]] for a, b in zip(lst[::2], lst[1::2])] # Ghép lại theo cặp\n",
    "for x in new_lst: print(f\"({x[0]} + {x[1]}) = Con 1: {x[2]} - Con 2: {x[3]}\")"
   ]
  },
  {
   "cell_type": "code",
   "execution_count": 23,
   "metadata": {},
   "outputs": [
    {
     "name": "stdout",
     "output_type": "stream",
     "text": [
      "sử dụng SPARQL để liệt kê các Giáo viên dạy môn Toán theo thứ tự tên\n",
      "Đinh Thị Cường Cường\n",
      "Dương Bảo Dũng Dũng\n",
      "Tạ Mai Hùng Hùng\n",
      "Ngô Anh Long Long\n",
      "Nguyễn Thanh Quân Quân\n",
      "Đinh Thị Vân Vân\n"
     ]
    }
   ],
   "source": [
    "print(\"sử dụng SPARQL để liệt kê các Giáo viên dạy môn Toán theo thứ tự tên\")\n",
    "result = list(default_world.sparql(\"\"\"\n",
    "PREFIX s: <http://hc.com/school#>\n",
    "SELECT ?gv ?ten\n",
    "WHERE {\n",
    "    ?gv a s:GiaoVien.\n",
    "    ?gv s:dayMon ?mon.\n",
    "    ?mon s:ten \"Toán học\".\n",
    "    ?gv s:hoTen ?hoTen.\n",
    "    BIND(strafter(strafter(?hoTen, \" \"), \" \") AS ?ten) .\n",
    "}\n",
    "ORDER BY ?ten\n",
    "\"\"\"))\n",
    "for x in result: print(x[0].hoTen, x[1])\n"
   ]
  }
 ],
 "metadata": {
  "kernelspec": {
   "display_name": "OpenCV",
   "language": "python",
   "name": "python3"
  },
  "language_info": {
   "codemirror_mode": {
    "name": "ipython",
    "version": 3
   },
   "file_extension": ".py",
   "mimetype": "text/x-python",
   "name": "python",
   "nbconvert_exporter": "python",
   "pygments_lexer": "ipython3",
   "version": "3.9.16"
  },
  "orig_nbformat": 4
 },
 "nbformat": 4,
 "nbformat_minor": 2
}
