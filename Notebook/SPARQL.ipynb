{
 "cells": [
  {
   "cell_type": "code",
   "execution_count": 1,
   "metadata": {},
   "outputs": [
    {
     "name": "stderr",
     "output_type": "stream",
     "text": [
      "* Owlready2 * Warning: optimized Cython parser module 'owlready2_optimized' is not available, defaulting to slower Python implementation\n"
     ]
    }
   ],
   "source": [
    "%run ../app/models/model.py\n",
    "from owlready2 import *\n",
    "onto = get_ontology(\"../app/data/education.owl\").load()"
   ]
  },
  {
   "cell_type": "code",
   "execution_count": 2,
   "metadata": {},
   "outputs": [
    {
     "name": "stdout",
     "output_type": "stream",
     "text": [
      "sử dụng SPARQL để tìm tất cả các học sinh có họ bắt đầu bằng chữ L\n",
      "Lâm Hoài Quỳnh 10C01\n",
      "Lý Quốc Ngọc 11B01\n",
      "Lương Thu Thúy 12A03\n"
     ]
    }
   ],
   "source": [
    "print(\"sử dụng SPARQL để tìm tất cả các học sinh có họ bắt đầu bằng chữ L\")\n",
    "result = list(default_world.sparql(\"\"\"\n",
    "PREFIX s: <http://hc.com/school#>\n",
    "SELECT ?hs \n",
    "WHERE {\n",
    "    ?hs a s:HocSinh.\n",
    "    ?hs s:hoTen ?hoTen.\n",
    "    FILTER (STRSTARTS(?hoTen, \"L\")).\n",
    "}\n",
    "\"\"\"))\n",
    "for x in result: print(x[0].hoTen, x[0].hocLop.ten)"
   ]
  },
  {
   "cell_type": "code",
   "execution_count": 20,
   "metadata": {},
   "outputs": [
    {
     "name": "stdout",
     "output_type": "stream",
     "text": [
      "sử dụng SPARQL để tìm tất cả các học sinh có tên lót là Thị\n",
      "Tăng Thị Tú 10C02\n",
      "Đinh Thị Khánh 10C02\n",
      "Mai Thị Linh 11B01\n",
      "Tạ Thị Hùng 11B01\n"
     ]
    }
   ],
   "source": [
    "print(\"sử dụng SPARQL để tìm tất cả các học sinh có tên lót là Thị\")\n",
    "result = list(default_world.sparql(\"\"\"\n",
    "PREFIX s: <http://hc.com/school#>\n",
    "SELECT ?hs\n",
    "WHERE {\n",
    "    ?hs a s:HocSinh.\n",
    "    ?hs s:hoTen ?hoTen.\n",
    "    FILTER (REGEX(?hoTen, \".+ Thị .+\", \"i\")).\n",
    "}\n",
    "\"\"\"))\n",
    "for x in result: print(x[0].hoTen, x[0].hocLop.ten)"
   ]
  },
  {
   "cell_type": "code",
   "execution_count": 3,
   "metadata": {},
   "outputs": [
    {
     "name": "stdout",
     "output_type": "stream",
     "text": [
      "sử dụng SPARQL để tìm tất cả các học sinh sinh vào tháng 3\n",
      "Nguyễn Hoài Khánh 2000-03-27\n",
      "Bùi Anh Linh 2000-03-05\n",
      "Tô Ngọc Xuân 2000-03-25\n"
     ]
    }
   ],
   "source": [
    "print(\"sử dụng SPARQL để tìm tất cả các học sinh sinh vào tháng 3\")\n",
    "result = list(default_world.sparql(\"\"\"\n",
    "PREFIX s: <http://hc.com/school#>\n",
    "SELECT ?hs \n",
    "WHERE {\n",
    "    ?hs a s:HocSinh.\n",
    "    ?hs s:ngaySinh ?ngaySinh.\n",
    "    FILTER (MONTH(?ngaySinh) = 3).\n",
    "}\n",
    "\"\"\"))\n",
    "for x in result: print(x[0].hoTen, x[0].ngaySinh)"
   ]
  },
  {
   "cell_type": "code",
   "execution_count": 4,
   "metadata": {},
   "outputs": [
    {
     "name": "stdout",
     "output_type": "stream",
     "text": [
      "sử dụng SPARQL để tìm tất cả các học sinh của lớp có tên là 10C03\n",
      "Đinh Thu Hải 10C03\n",
      "Đặng Mai Thuận 10C03\n",
      "Đoàn Kim Minh 10C03\n",
      "Trần Bảo Long 10C03\n",
      "Tạ Ngọc Thiện 10C03\n"
     ]
    }
   ],
   "source": [
    "print(\"sử dụng SPARQL để tìm tất cả các học sinh của lớp có tên là 10C03\")\n",
    "result = list(default_world.sparql(\"\"\"\n",
    "PREFIX s: <http://hc.com/school#>\n",
    "SELECT ?hs \n",
    "WHERE {\n",
    "    ?hs a s:HocSinh.\n",
    "    ?hs s:hocLop ?lop.\n",
    "    ?lop s:ten \"10C03\".\n",
    "}\n",
    "\"\"\"))\n",
    "for x in result: print(x[0].hoTen, x[0].hocLop.ten)"
   ]
  },
  {
   "cell_type": "code",
   "execution_count": 5,
   "metadata": {},
   "outputs": [
    {
     "name": "stdout",
     "output_type": "stream",
     "text": [
      "sử dụng SPARQL để tìm tất cả các học sinh của lớp có uri là #11B01\n",
      "Hoàng Mai Thúy 11B01\n",
      "Lý Quốc Ngọc 11B01\n",
      "Mai Thị Linh 11B01\n",
      "Tạ Thị Hùng 11B01\n",
      "Dương Quốc Tường 11B01\n"
     ]
    }
   ],
   "source": [
    "print(\"sử dụng SPARQL để tìm tất cả các học sinh của lớp có uri là #11B01\")\n",
    "result = list(default_world.sparql(\"\"\"\n",
    "PREFIX s: <http://hc.com/school#>\n",
    "SELECT ?hs \n",
    "WHERE {\n",
    "    ?hs a s:HocSinh.\n",
    "    ?hs s:hocLop ?lop.\n",
    "    FILTER(STRENDS(STR(?lop), \"#11B01\")).\n",
    "}\n",
    "\"\"\"))\n",
    "for x in result: print(x[0].hoTen, x[0].hocLop.ten)"
   ]
  },
  {
   "cell_type": "code",
   "execution_count": 6,
   "metadata": {},
   "outputs": [
    {
     "name": "stdout",
     "output_type": "stream",
     "text": [
      "sử dụng SPARQL để tìm tất cả các giáo viên chủ nhiệm của từng lớp, sắp xếp theo tên lớp\n",
      "Dương Kim Quang - Sinh học - 10C01\n",
      "Quách Kim Linh - Toán học - 10C02\n",
      "Đoàn Quý Vinh - Địa lý - 10C03\n",
      "Võ Hữu Việt - Thể dục - 11B01\n",
      "Đoàn Thanh Nhật - Toán học - 11B02\n",
      "Lý Thanh Việt - Thể dục - 11B03\n",
      "Thái Văn Quân - GDCD - 12A01\n",
      "Tôn Quốc Nhật - GDCD - 12A02\n",
      "Trương Thanh Linh - Lịch sử - 12A03\n"
     ]
    }
   ],
   "source": [
    "print(\"sử dụng SPARQL để tìm tất cả các giáo viên chủ nhiệm của từng lớp, sắp xếp theo tên lớp\")\n",
    "result = list(default_world.sparql(\"\"\"\n",
    "PREFIX s: <http://hc.com/school#>\n",
    "SELECT ?gv\n",
    "WHERE {\n",
    "    ?gv a s:GiaoVien.\n",
    "    ?gv s:lopChuNhiem ?lop.\n",
    "    ?lop s:ten ?tenLop.\n",
    "    FILTER(BOUND(?lop)).\n",
    "}\n",
    "ORDER BY ?tenLop\n",
    "\"\"\"))\n",
    "for x in result: print(' - '.join([x[0].hoTen, x[0].dayMon[0].ten, x[0].lopChuNhiem.ten]))"
   ]
  },
  {
   "cell_type": "code",
   "execution_count": 7,
   "metadata": {},
   "outputs": [
    {
     "name": "stdout",
     "output_type": "stream",
     "text": [
      "sử dụng SPARQL để tìm tất cả các giáo viên chủ nhiệm của từng lớp (cách 2)\n",
      "10C01 - Dương Kim Quang\n",
      "10C02 - Quách Kim Linh\n",
      "10C03 - Đoàn Quý Vinh\n",
      "11B01 - Võ Hữu Việt\n",
      "11B02 - Đoàn Thanh Nhật\n",
      "11B03 - Lý Thanh Việt\n",
      "12A01 - Thái Văn Quân\n",
      "12A02 - Tôn Quốc Nhật\n",
      "12A03 - Trương Thanh Linh\n"
     ]
    }
   ],
   "source": [
    "print(\"sử dụng SPARQL để tìm tất cả các giáo viên chủ nhiệm của từng lớp (cách 2)\")\n",
    "result = list(default_world.sparql(\"\"\"\n",
    "PREFIX s: <http://hc.com/school#>\n",
    "SELECT ?lop \n",
    "WHERE {\n",
    "    ?lop a s:LopHoc.\n",
    "}\n",
    "\"\"\"))\n",
    "for x in result: print(' - '.join([x[0].ten, x[0].giaoVienChuNhiem.hoTen]))"
   ]
  },
  {
   "cell_type": "code",
   "execution_count": 8,
   "metadata": {},
   "outputs": [
    {
     "name": "stdout",
     "output_type": "stream",
     "text": [
      "sử dụng SPARQL để tìm tất cả các phụ huynh có 2 con đang học cùng trường\n",
      "\n"
     ]
    }
   ],
   "source": [
    "print(\"sử dụng SPARQL để tìm tất cả các phụ huynh có 2 con đang học cùng trường\")\n",
    "result = list(default_world.sparql(\"\"\"\n",
    "PREFIX s: <http://hc.com/school#>\n",
    "SELECT ?ph (COUNT(?hs) AS ?soCon)\n",
    "WHERE {\n",
    "    ?ph a s:Me.\n",
    "    ?ph s:con ?hs.\n",
    "}\n",
    "GROUP BY ?ph\n",
    "HAVING (COUNT(?hs) = 2)\n",
    "\"\"\"))\n",
    "print(*[f\"{x[0].hoTen} - {x[1]}\" for x in result], sep = '\\n')\n",
    "lst = list(map(lambda ph: [ph[0].hoTen, ph[0].con[0].hoTen, ph[0].con[1].hoTen], result))# Lấy họ tên phụ huynh và các con\n",
    "lst.sort(key = lambda x:x[2]) # Sắp xếp theo tên con thứ 2\n",
    "new_lst = [[a[0], b[0], a[1], a[2]] for a, b in zip(lst[::2], lst[1::2])] # Ghép lại theo cặp\n",
    "for x in new_lst: print(f\"({x[0]} + {x[1]}) = Con 1: {x[2]} - Con 2: {x[3]}\")"
   ]
  },
  {
   "cell_type": "code",
   "execution_count": 9,
   "metadata": {},
   "outputs": [
    {
     "name": "stdout",
     "output_type": "stream",
     "text": [
      "sử dụng SPARQL để liệt kê các Giáo viên dạy môn Toán theo thứ tự tên\n",
      "Quách Kim Linh\n",
      "Đoàn Thanh Nhật\n",
      "Lâm Đình Quỳnh\n",
      "Ngô Quý Vân\n"
     ]
    }
   ],
   "source": [
    "print(\"sử dụng SPARQL để liệt kê các Giáo viên dạy môn Toán theo thứ tự tên\")\n",
    "result = list(default_world.sparql(\"\"\"\n",
    "PREFIX s: <http://hc.com/school#>\n",
    "SELECT ?gv ?ten\n",
    "WHERE {\n",
    "    ?gv a s:GiaoVien.\n",
    "    ?gv s:dayMon ?mon.\n",
    "    ?mon s:ten \"Toán học\".\n",
    "    ?gv s:hoTen ?hoTen.\n",
    "    BIND(strafter(strafter(?hoTen, \" \"), \" \") AS ?ten) .\n",
    "}\n",
    "ORDER BY ?ten\n",
    "\"\"\"))\n",
    "for x in result: print(x[0].hoTen)\n"
   ]
  },
  {
   "cell_type": "code",
   "execution_count": 10,
   "metadata": {},
   "outputs": [
    {
     "name": "stdout",
     "output_type": "stream",
     "text": [
      "sử dụng SPARQL để liệt kê các Giáo viên dạy lớp 10C03 theo thứ tự tên môn học\n",
      "Lê Đình Sơn Công nghệ 10C03\n",
      "Lý Minh Linh GDCD 10C03\n",
      "Quách Hồng Minh Hóa học 10C03\n",
      "Tạ Thu Minh Lịch sử 10C03\n",
      "Lương Mai Nam Ngữ văn 10C03\n",
      "Thái Quốc Quang Sinh học 10C03\n",
      "Võ Hữu Việt Thể dục 10C03\n",
      "Ngô Bảo Tường Tiếng Anh 10C03\n",
      "Đoàn Thanh Nhật Toán học 10C03\n",
      "Phùng Thị Quang Địa lý 10C03\n"
     ]
    }
   ],
   "source": [
    "print(\"sử dụng SPARQL để liệt kê các Giáo viên dạy lớp 10C03 theo thứ tự tên môn học\")\n",
    "result = list(default_world.sparql(\"\"\"\n",
    "PREFIX s: <http://hc.com/school#>\n",
    "SELECT ?day\n",
    "WHERE {\n",
    "    ?day a s:GiangDay.\n",
    "    ?day s:lopHoc ?lop.\n",
    "    ?lop s:ten \"10C03\".\n",
    "    ?day s:monHoc ?mon.\n",
    "    ?mon s:ten ?tenMon.\n",
    "}\n",
    "ORDER BY ?tenMon\n",
    "\"\"\"))\n",
    "for x in result: print(x[0].giaoVien.hoTen, x[0].monHoc.ten, x[0].lopHoc.ten)"
   ]
  },
  {
   "cell_type": "code",
   "execution_count": 11,
   "metadata": {},
   "outputs": [
    {
     "name": "stdout",
     "output_type": "stream",
     "text": [
      "sử dụng SPARQL để tìm tất cả các gv dạy 2 môn\n",
      "Quách Kim Linh 2 ['Toán học', 'Hóa học']\n",
      "Trần Thanh Vân 2 ['Hóa học', 'Địa lý']\n",
      "Lâm Đình Quỳnh 2 ['Toán học', 'Sinh học']\n",
      "Đặng Hoài Hiền 2 ['Tiếng Anh', 'GDCD']\n",
      "Tôn Quốc Nhật 2 ['GDCD', 'Thể dục']\n"
     ]
    }
   ],
   "source": [
    "print(\"sử dụng SPARQL để tìm tất cả các gv dạy 2 môn\")\n",
    "result = list(default_world.sparql(\"\"\"\n",
    "PREFIX s: <http://hc.com/school#>\n",
    "SELECT ?gv (COUNT(?day) AS ?soMon)\n",
    "WHERE {\n",
    "    ?gv a s:GiaoVien.\n",
    "    ?gv s:dayMon ?day.\n",
    "}\n",
    "GROUP BY ?gv\n",
    "HAVING (COUNT(?day) > 1)\n",
    "\"\"\"))\n",
    "for x in result: print(x[0].hoTen, x[1], [mon.ten for mon in x[0].dayMon])"
   ]
  },
  {
   "cell_type": "code",
   "execution_count": 25,
   "metadata": {},
   "outputs": [
    {
     "name": "stdout",
     "output_type": "stream",
     "text": [
      "sử dụng SPARQL để tìm tất cả các giáo viên là Tổ trưởng của các tổ\n",
      "Ngô Quý Vân - Tổ trưởng - Tổ Toán học\n",
      "Lương Mai Nam - Tổ trưởng - Tổ Ngữ văn\n",
      "Quách Hồng Minh - Tổ trưởng - Tổ Hóa học\n",
      "Tạ Thu Minh - Tổ trưởng - Tổ Lịch sử\n",
      "Phùng Thị Quang - Tổ trưởng - Tổ Địa lý\n",
      "Thái Quốc Quang - Tổ trưởng - Tổ Sinh học\n",
      "Ngô Bảo Tường - Tổ trưởng - Tổ Tiếng Anh\n",
      "Lý Minh Linh - Tổ trưởng - Tổ GDCD\n",
      "Lê Đình Sơn - Tổ trưởng - Tổ Công nghệ\n",
      "Võ Hữu Việt - Tổ trưởng - Tổ Thể dục\n"
     ]
    }
   ],
   "source": [
    "print(\"sử dụng SPARQL để tìm tất cả các giáo viên là Tổ trưởng của các tổ\")\n",
    "result = list(default_world.sparql(\"\"\"\n",
    "PREFIX s: <http://hc.com/school#>\n",
    "SELECT ?gv ?cv ?to\n",
    "WHERE {\n",
    "    ?gv a s:GiaoVien.\n",
    "    ?gv s:chucVu ?cv.\n",
    "    ?cv s:ten \"Tổ trưởng\".\n",
    "    ?gv s:toChuc ?to.\n",
    "}\n",
    "\"\"\"))\n",
    "for x in result: print(x[0].hoTen, '-', x[1].ten, '-', x[2].ten)\n",
    "    "
   ]
  },
  {
   "cell_type": "code",
   "execution_count": 27,
   "metadata": {},
   "outputs": [
    {
     "name": "stdout",
     "output_type": "stream",
     "text": [
      "sử dụng SPARQL lọc ra tất cả các lớp có IRI kết thúc bằng 11B*\n",
      "Hoàng Mai Thúy 11B01\n",
      "Lý Quốc Ngọc 11B01\n",
      "Mai Thị Linh 11B01\n",
      "Tạ Thị Hùng 11B01\n",
      "Dương Quốc Tường 11B01\n",
      "Tô Văn Phương 11B02\n",
      "Nguyễn Hồng Tùng 11B02\n",
      "Phan Mai Tú 11B02\n",
      "Ngô Văn Tường 11B02\n",
      "Phùng Thanh Quân 11B02\n",
      "Đinh Thanh Vinh 11B03\n",
      "Đặng Anh Khánh 11B03\n",
      "Tăng Quý An 11B03\n",
      "Bùi Hoài Phương 11B03\n",
      "Võ Mai Thiên 11B03\n"
     ]
    }
   ],
   "source": [
    "print(\"sử dụng SPARQL lọc ra tất cả các lớp có IRI kết thúc bằng 11B*\")\n",
    "result = list(default_world.sparql(\"\"\"\n",
    "PREFIX s: <http://hc.com/school#>\n",
    "SELECT ?hs ?tenLop\n",
    "WHERE {\n",
    "    ?hs a s:HocSinh.\n",
    "    ?hs s:hocLop ?lop.\n",
    "    ?lop s:ten ?tenLop.\n",
    "    FILTER(REGEX(STR(?lop), \".+#11B.+\", \"i\")).\n",
    "}\n",
    "\"\"\"))\n",
    "for x in result: print(x[0].hoTen, x[1])"
   ]
  },
  {
   "cell_type": "code",
   "execution_count": 48,
   "metadata": {},
   "outputs": [
    {
     "name": "stdout",
     "output_type": "stream",
     "text": [
      "sử dụng SPARQL liệt kê tất cả nhân viên của tổ Văn phòng kèm theo thông tin lương, \n",
      "Lương = Hệ số lương * 1.500.000 + Tổng phụ cấp chức vụ (nếu có)*1000.000\n",
      "Một nhân viên có thể đảm nhiệm nhiều vị trí công việc nên sẽ có nhiều chức vụ\n",
      "Tổng phụ cấp chức vụ = tổng tất cả phụ cấp, sắp xếp lương giảm dần\n",
      "\n",
      "Huỳnh Quý Quang - Tổ phó - PC: 1060.6499999999246 - Lương: 12750000.0 + -687000000 = -674250000.0\n",
      "Quách Quốc Bình - Phục vụ - PC: 0 - Lương: 12000000.0 + -687000000 = -675000000.0\n",
      "Lý Minh Quang - Thiết bị - PC: 589.25 - Lương: 9300000.0 + -687000000 = -677700000.0\n",
      "Đặng Anh Nam - Thư viện - PC: 0 - Lương: 9000000.0 + -687000000 = -678000000.0\n",
      "Phạm Mai Việt - Tổ trưởng - PC: 1649.900000000068 - Lương: 7950000.0 + -687000000 = -679050000.0\n",
      "Tôn Quốc Linh - Bảo vệ - PC: 0 - Lương: 7950000.0 + -687000000 = -679050000.0\n",
      "Đinh Đình An - Bảo vệ - PC: 0 - Lương: 7200000.0 + -687000000 = -679800000.0\n",
      "Tô Văn Cường - Thủ quỹ - PC: 707.0999999999841 - Lương: 6149999.999999999 + -687000000 = -680850000.0\n",
      "Phùng Đình Cường - Bảo vệ - PC: 0 - Lương: 5100000.0 + -687000000 = -681900000.0\n",
      "Tô Văn Quỳnh - Thiết bị - PC: 589.25 - Lương: 2550000.0 + -687000000 = -684450000.0\n",
      "Đào Minh Thuận - Phục vụ - PC: 0 - Lương: 1800000.0 + -687000000 = -685200000.0\n"
     ]
    }
   ],
   "source": [
    "print('''sử dụng SPARQL liệt kê tất cả nhân viên của tổ Văn phòng kèm theo thông tin lương, \n",
    "Lương = Hệ số lương * 1.500.000 + Tổng phụ cấp chức vụ (nếu có)*1000.000\n",
    "Một nhân viên có thể đảm nhiệm nhiều vị trí công việc nên sẽ có nhiều chức vụ\n",
    "Tổng phụ cấp chức vụ = tổng tất cả phụ cấp, sắp xếp lương giảm dần\n",
    "''')\n",
    "result = list(default_world.sparql(\"\"\"\n",
    "PREFIX s: <http://hc.com/school#>\n",
    "SELECT ?nv ?cv (SUM(?phuCap) AS ?tongPhuCap) ?luongC ?luongT ?luong\n",
    "WHERE {\n",
    "    ?nv a s:NhanVien.\n",
    "    ?nv s:toChuc ?to.\n",
    "    ?to s:ten \"Văn phòng\".\n",
    "    ?nv s:heSoLuong ?heSo.\n",
    "    OPTIONAL {\n",
    "        ?nv s:chucVu ?cv.\n",
    "        ?cv s:phuCap ?phuCap.\n",
    "    }\n",
    "    BIND(?heSo * 1500000 AS ?luongC).\n",
    "    BIND(IF(BOUND(?cv), ?tongPhuCap*1000000, 0) AS ?luongT).\n",
    "    BIND(?luongC + ?luongT AS ?luong).\n",
    "}\n",
    "GROUP BY ?nv \n",
    "ORDER BY DESC(?luong)\n",
    "\"\"\"))\n",
    "for x in result: print(x[0].hoTen, '-', x[1].ten, '- PC:', x[2], '- Lương:', x[3], '+', x[4], '=', x[5])"
   ]
  },
  {
   "cell_type": "code",
   "execution_count": 76,
   "metadata": {},
   "outputs": [
    {
     "name": "stdout",
     "output_type": "stream",
     "text": [
      "sử dụng SPARQL liệt kê tất cả nhân viên của tổ Văn phòng kèm theo thông tin lương, \n",
      "Lương = Hệ số lương * 1.500.000 + Tổng phụ cấp chức vụ (nếu có)*1000.000\n",
      "Một nhân viên có thể đảm nhiệm nhiều vị trí công việc nên sẽ có nhiều chức vụ\n",
      "Tổng phụ cấp chức vụ = tổng tất cả phụ cấp, sắp xếp lương giảm dần\n",
      "\n",
      "Tôn Quốc Linh - Bảo vệ \n",
      "- Hệ số: 5.3 - Phụ cấp: 0 \n",
      "- Lương: 7950.0 + 0 = 7950.0\n",
      "Phùng Đình Cường - Bảo vệ \n",
      "- Hệ số: 3.4 - Phụ cấp: 0 \n",
      "- Lương: 5100.0 + 0 = 5100.0\n",
      "Đinh Đình An - Bảo vệ \n",
      "- Hệ số: 4.8 - Phụ cấp: 0 \n",
      "- Lương: 7200.0 + 0 = 7200.0\n",
      "Quách Quốc Bình - Phục vụ \n",
      "- Hệ số: 8.0 - Phụ cấp: 0 \n",
      "- Lương: 12000.0 + 0 = 12000.0\n",
      "Đào Minh Thuận - Phục vụ \n",
      "- Hệ số: 1.2 - Phụ cấp: 0 \n",
      "- Lương: 1800.0 + 0 = 1800.0\n",
      "Huỳnh Quý Quang - Văn thư \n",
      "- Hệ số: 8.5 - Phụ cấp: 0.44999999999999996 \n",
      "- Lương: 12750.0 + 449.99999999999994 = 13200.0\n",
      "Tô Văn Cường - Thủ quỹ \n",
      "- Hệ số: 4.1 - Phụ cấp: 0.3 \n",
      "- Lương: 6149.999999999999 + 300.0 = 6449.999999999999\n",
      "Phạm Mai Việt - Kế toán \n",
      "- Hệ số: 5.3 - Phụ cấp: 0.7 \n",
      "- Lương: 7950.0 + 700.0 = 8650.0\n",
      "Đặng Anh Nam - Thư viện \n",
      "- Hệ số: 6.0 - Phụ cấp: 0 \n",
      "- Lương: 9000.0 + 0 = 9000.0\n",
      "Tô Văn Quỳnh - Thiết bị \n",
      "- Hệ số: 1.7 - Phụ cấp: 0.25 \n",
      "- Lương: 2550.0 + 250.0 = 2800.0\n",
      "Lý Minh Quang - Thiết bị \n",
      "- Hệ số: 6.2 - Phụ cấp: 0.25 \n",
      "- Lương: 9300.0 + 250.0 = 9550.0\n"
     ]
    }
   ],
   "source": [
    "print('''sử dụng SPARQL liệt kê tất cả nhân viên của tổ Văn phòng kèm theo thông tin lương, \n",
    "Lương = Hệ số lương * 1.500.000 + Tổng phụ cấp chức vụ (nếu có)*1000.000\n",
    "Một nhân viên có thể đảm nhiệm nhiều vị trí công việc nên sẽ có nhiều chức vụ\n",
    "Tổng phụ cấp chức vụ = tổng tất cả phụ cấp, sắp xếp lương giảm dần\n",
    "''')\n",
    "result = list(default_world.sparql(\"\"\"\n",
    "PREFIX s: <http://hc.com/school#>\n",
    "SELECT ?nv ?cv ?heSo ?tongPhuCap ?luongC ?luongT ?luong\n",
    "WHERE {\n",
    "    ?nv a s:NhanVien.\n",
    "    ?nv s:toChuc ?to.\n",
    "    ?to s:ten \"Văn phòng\".\n",
    "    ?nv s:heSoLuong ?heSo.\n",
    "    ?nv s:chucVu ?cv.\n",
    "    ?cv s:phuCap ?phuCap.\n",
    "    BIND(SUM(?phuCap) AS ?tongPhuCap).\n",
    "    BIND(?heSo * 1500 AS ?luongC).\n",
    "    BIND(IF(BOUND(?cv), ?tongPhuCap*1000, 0) AS ?luongT).\n",
    "    BIND(?luongC + ?luongT AS ?luong).\n",
    "}\n",
    "GROUP BY ?nv ?heSo \n",
    "\"\"\"))\n",
    "for x in result: \n",
    "    print(x[0].hoTen, '-', x[1].ten, '\\n- Hệ số:', x[2], '- Phụ cấp:', x[3],\n",
    "          '\\n- Lương:', x[4], '+', x[5], '=', x[6])"
   ]
  }
 ],
 "metadata": {
  "kernelspec": {
   "display_name": "OpenCV",
   "language": "python",
   "name": "python3"
  },
  "language_info": {
   "codemirror_mode": {
    "name": "ipython",
    "version": 3
   },
   "file_extension": ".py",
   "mimetype": "text/x-python",
   "name": "python",
   "nbconvert_exporter": "python",
   "pygments_lexer": "ipython3",
   "version": "3.11.3"
  },
  "orig_nbformat": 4
 },
 "nbformat": 4,
 "nbformat_minor": 2
}
