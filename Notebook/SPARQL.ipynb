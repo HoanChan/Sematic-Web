{
 "cells": [
  {
   "cell_type": "code",
   "execution_count": 1,
   "metadata": {},
   "outputs": [
    {
     "name": "stderr",
     "output_type": "stream",
     "text": [
      "* Owlready2 * Warning: optimized Cython parser module 'owlready2_optimized' is not available, defaulting to slower Python implementation\n"
     ]
    }
   ],
   "source": [
    "%run ../app/models/model.py\n",
    "from owlready2 import *\n",
    "onto = get_ontology(\"../app/data/education.owl\").load()"
   ]
  },
  {
   "cell_type": "code",
   "execution_count": 2,
   "metadata": {},
   "outputs": [
    {
     "name": "stdout",
     "output_type": "stream",
     "text": [
      "sử dụng SPARQL để tìm tất cả các học sinh có họ Lê\n",
      "Lê Anh Thiên\n",
      "Lê Thanh Bình\n"
     ]
    }
   ],
   "source": [
    "print(\"sử dụng SPARQL để tìm tất cả các học sinh có họ Lê\")\n",
    "result = list(default_world.sparql(\"\"\"\n",
    "PREFIX s: <http://hc.com/school#>\n",
    "SELECT ?hs \n",
    "WHERE {\n",
    "    ?hs a s:HocSinh.\n",
    "    ?hs s:hoTen ?hoTen.\n",
    "    FILTER (STRSTARTS(?hoTen, \"Lê\")).\n",
    "}\n",
    "\"\"\"))\n",
    "for x in result: print(x[0].hoTen)"
   ]
  },
  {
   "cell_type": "code",
   "execution_count": 3,
   "metadata": {},
   "outputs": [
    {
     "name": "stdout",
     "output_type": "stream",
     "text": [
      "sử dụng SPARQL để tìm tất cả các học sinh sinh vào tháng 3\n",
      "Đoàn Thị Thúy 14/03/2000\n",
      "Đoàn Thanh Bình 03/03/2000\n",
      "Huỳnh Hồng Thảo 11/03/2000\n",
      "Tôn Minh Ngọc 23/03/2000\n",
      "Ngô Kim Tú 27/03/2000\n"
     ]
    }
   ],
   "source": [
    "print(\"sử dụng SPARQL để tìm tất cả các học sinh sinh vào tháng 3\")\n",
    "result = list(default_world.sparql(\"\"\"\n",
    "PREFIX s: <http://hc.com/school#>\n",
    "SELECT ?hs \n",
    "WHERE {\n",
    "    ?hs a s:HocSinh.\n",
    "    ?hs s:ngaySinh ?ngaySinh.\n",
    "    FILTER (REGEX(?ngaySinh, \".*/03/.*\", \"i\")).\n",
    "}\n",
    "\"\"\"))\n",
    "for x in result: print(x[0].hoTen, x[0].ngaySinh)"
   ]
  },
  {
   "cell_type": "code",
   "execution_count": 4,
   "metadata": {},
   "outputs": [
    {
     "name": "stdout",
     "output_type": "stream",
     "text": [
      "sử dụng SPARQL để tìm tất cả các học sinh của lớp có tên là 10C03\n",
      "Mai Thu Việt 10C03\n",
      "Nguyễn Đình Minh 10C03\n",
      "Đào Hồng Thiên 10C03\n",
      "Phùng Bảo Tường 10C03\n",
      "Lý Anh Nam 10C03\n"
     ]
    }
   ],
   "source": [
    "print(\"sử dụng SPARQL để tìm tất cả các học sinh của lớp có tên là 10C03\")\n",
    "result = list(default_world.sparql(\"\"\"\n",
    "PREFIX s: <http://hc.com/school#>\n",
    "SELECT ?hs \n",
    "WHERE {\n",
    "    ?hs a s:HocSinh.\n",
    "    ?hs s:hocLop ?lop.\n",
    "    ?lop s:ten \"10C03\".\n",
    "}\n",
    "\"\"\"))\n",
    "for x in result: print(x[0].hoTen, x[0].hocLop.ten)"
   ]
  },
  {
   "cell_type": "code",
   "execution_count": 5,
   "metadata": {},
   "outputs": [
    {
     "name": "stdout",
     "output_type": "stream",
     "text": [
      "sử dụng SPARQL để tìm tất cả các học sinh của lớp có uri là #lophoc1\n",
      "Bùi Minh Cường 10C01\n",
      "Lâm Quý Minh 10C01\n",
      "Bành Kim Vân 10C01\n",
      "Hồ Hoài Hùng 10C01\n",
      "Đoàn Thị Thúy 10C01\n"
     ]
    }
   ],
   "source": [
    "print(\"sử dụng SPARQL để tìm tất cả các học sinh của lớp có uri là #lophoc1\")\n",
    "result = list(default_world.sparql(\"\"\"\n",
    "PREFIX s: <http://hc.com/school#>\n",
    "SELECT ?hs \n",
    "WHERE {\n",
    "    ?hs a s:HocSinh.\n",
    "    ?hs s:hocLop ?lop.\n",
    "    FILTER(STRENDS(STR(?lop), \"#lophoc1\")).\n",
    "}\n",
    "\"\"\"))\n",
    "for x in result: print(x[0].hoTen, x[0].hocLop.ten)"
   ]
  },
  {
   "cell_type": "code",
   "execution_count": 6,
   "metadata": {},
   "outputs": [
    {
     "name": "stdout",
     "output_type": "stream",
     "text": [
      "sử dụng SPARQL để tìm tất cả các giáo viên chủ nhiệm của từng lớp, sắp xếp theo tên lớp\n",
      "Quách Thanh Hiền - Toán học - 10C01\n",
      "Lê Hoài Quân - GDCD - 10C02\n",
      "Tăng Hữu Ngọc - GDCD - 10C03\n",
      "Nguyễn Minh Khánh - Địa lý - 11B01\n",
      "Đinh Bảo Nhật - Hóa học - 11B02\n",
      "Phùng Đình Thiện - Toán học - 11B03\n",
      "Lâm Hữu Phương - Hóa học - 12A01\n",
      "Bành Mai Linh - Lịch sử - 12A02\n",
      "Huỳnh Hoài Long - Công nghệ - 12A03\n"
     ]
    }
   ],
   "source": [
    "print(\"sử dụng SPARQL để tìm tất cả các giáo viên chủ nhiệm của từng lớp, sắp xếp theo tên lớp\")\n",
    "result = list(default_world.sparql(\"\"\"\n",
    "PREFIX s: <http://hc.com/school#>\n",
    "SELECT ?gv\n",
    "WHERE {\n",
    "    ?gv a s:GiaoVien.\n",
    "    ?gv s:lopChuNhiem ?lop.\n",
    "    ?lop s:ten ?tenLop.\n",
    "    FILTER(BOUND(?lop)).\n",
    "}\n",
    "ORDER BY ?tenLop\n",
    "\"\"\"))\n",
    "for x in result: print(' - '.join([x[0].hoTen, x[0].dayMon[0].ten, x[0].lopChuNhiem.ten]))"
   ]
  },
  {
   "cell_type": "code",
   "execution_count": 7,
   "metadata": {},
   "outputs": [
    {
     "name": "stdout",
     "output_type": "stream",
     "text": [
      "sử dụng SPARQL để tìm tất cả các giáo viên chủ nhiệm của từng lớp (cách 2)\n",
      "10C01 - Quách Thanh Hiền\n",
      "10C02 - Lê Hoài Quân\n",
      "10C03 - Tăng Hữu Ngọc\n",
      "11B01 - Nguyễn Minh Khánh\n",
      "11B02 - Đinh Bảo Nhật\n",
      "11B03 - Phùng Đình Thiện\n",
      "12A01 - Lâm Hữu Phương\n",
      "12A02 - Bành Mai Linh\n",
      "12A03 - Huỳnh Hoài Long\n"
     ]
    }
   ],
   "source": [
    "print(\"sử dụng SPARQL để tìm tất cả các giáo viên chủ nhiệm của từng lớp (cách 2)\")\n",
    "result = list(default_world.sparql(\"\"\"\n",
    "PREFIX s: <http://hc.com/school#>\n",
    "SELECT ?lop \n",
    "WHERE {\n",
    "    ?lop a s:LopHoc.\n",
    "}\n",
    "\"\"\"))\n",
    "for x in result: print(' - '.join([x[0].ten, x[0].giaoVienChuNhiem.hoTen]))"
   ]
  },
  {
   "cell_type": "code",
   "execution_count": 8,
   "metadata": {},
   "outputs": [
    {
     "name": "stdout",
     "output_type": "stream",
     "text": [
      "sử dụng SPARQL để tìm tất cả các phụ huynh có 2 con đang học cùng trường\n",
      "(Thái Ngọc Khánh + Thái Thanh Việt) = Con 1: Quách Thị Vinh - Con 2: Dương Mai Thúy\n",
      "(Đoàn Mai Xuân + Huỳnh Văn Thiên) = Con 1: Lê Anh Thiên - Con 2: Hoàng Bảo Tú\n",
      "(Vũ Quý Hải + Đinh Bảo Thuận) = Con 1: Lê Thanh Bình - Con 2: Hoàng Hoài Long\n",
      "(Tô Anh Dũng + Trương Bảo Dũng) = Con 1: Quách Kim Vinh - Con 2: Hoàng Hữu Hiền\n",
      "(Bành Đình Hải + Đoàn Hoài Vinh) = Con 1: Hồ Mai Tường - Con 2: Huỳnh Hồng Thảo\n",
      "(Ngô Ngọc Tùng + Tạ Hồng Vinh) = Con 1: Bành Kim Vân - Con 2: Hồ Hoài Hùng\n",
      "(Tôn Thu Dũng + Phạm Văn Hùng) = Con 1: Đào Hữu Nam - Con 2: Lương Mai Quân\n",
      "(Lê Bảo Cường + Thái Anh Thuận) = Con 1: Lâm Quý Minh - Con 2: Mai Thu Việt\n",
      "(Đào Hồng Minh + Trương Bảo Sơn) = Con 1: Trần Hoài Sơn - Con 2: Nguyễn Đình Minh\n",
      "(Mai Ngọc Long + Tô Thu Quỳnh) = Con 1: Đinh Quý Nam - Con 2: Ngô Kim Tú\n",
      "(Phùng Đình Thiện + Ngô Hồng Sơn) = Con 1: Đoàn Đình Nhật - Con 2: Phùng Bảo Tường\n",
      "(Tăng Hữu Việt + Tô Anh Ngọc) = Con 1: Trương Thu Tùng - Con 2: Trương Hữu Quỳnh\n",
      "(Đào Văn Sơn + Vũ Hữu Thiện) = Con 1: Trương Đình Vân - Con 2: Tô Ngọc Tùng\n",
      "(Đoàn Thu Tùng + Đỗ Hoài Tường) = Con 1: Huỳnh Quý Long - Con 2: Tăng Hữu Thiên\n",
      "(Trần Kim Hiền + Nguyễn Quý Thiên) = Con 1: Huỳnh Minh Hiền - Con 2: Đoàn Minh Quỳnh\n",
      "(Hoàng Kim Tú + Đặng Kim Hùng) = Con 1: Lý Anh Nam - Con 2: Đoàn Quý Bình\n",
      "(Huỳnh Thu Hiền + Trương Thanh Quỳnh) = Con 1: Bành Thu Hải - Con 2: Đoàn Thanh Bình\n",
      "(Lý Ngọc Quang + Bùi Hoài Tường) = Con 1: Bùi Minh Cường - Con 2: Đào Thanh Xuân\n",
      "(Hồ Mai Linh + Quách Đình Hiền) = Con 1: Đoàn Thị Thúy - Con 2: Đỗ Mai Thuận\n",
      "(Lý Mai Tú + Đỗ Thanh Hùng) = Con 1: Tôn Minh Ngọc - Con 2: Đỗ Thanh Ngọc\n"
     ]
    }
   ],
   "source": [
    "print(\"sử dụng SPARQL để tìm tất cả các phụ huynh có 2 con đang học cùng trường\")\n",
    "result = list(default_world.sparql(\"\"\"\n",
    "PREFIX s: <http://hc.com/school#>\n",
    "SELECT ?ph (COUNT(?hs) AS ?soCon)\n",
    "WHERE {\n",
    "    ?ph a s:PhuHuynh.\n",
    "    ?ph s:con ?hs.\n",
    "}\n",
    "GROUP BY ?ph\n",
    "HAVING (COUNT(?hs) = 2)\n",
    "\"\"\"))\n",
    "lst = list(map(lambda ph: [ph[0].hoTen, ph[0].con[0].hoTen, ph[0].con[1].hoTen], result))# Lấy họ tên phụ huynh và các con\n",
    "lst.sort(key = lambda x:x[2]) # Sắp xếp theo tên con thứ 2\n",
    "new_lst = [[a[0], b[0], a[1], a[2]] for a, b in zip(lst[::2], lst[1::2])] # Ghép lại theo cặp\n",
    "for x in new_lst: print(f\"({x[0]} + {x[1]}) = Con 1: {x[2]} - Con 2: {x[3]}\")"
   ]
  },
  {
   "cell_type": "code",
   "execution_count": 9,
   "metadata": {},
   "outputs": [
    {
     "name": "stdout",
     "output_type": "stream",
     "text": [
      "sử dụng SPARQL để liệt kê các Giáo viên dạy môn Toán theo thứ tự tên\n",
      "Tôn Hồng Cường\n",
      "Quách Thanh Hiền\n",
      "Phùng Đình Thiện\n",
      "Phan Hồng Thuận\n"
     ]
    }
   ],
   "source": [
    "print(\"sử dụng SPARQL để liệt kê các Giáo viên dạy môn Toán theo thứ tự tên\")\n",
    "result = list(default_world.sparql(\"\"\"\n",
    "PREFIX s: <http://hc.com/school#>\n",
    "SELECT ?gv ?ten\n",
    "WHERE {\n",
    "    ?gv a s:GiaoVien.\n",
    "    ?gv s:dayMon ?mon.\n",
    "    ?mon s:ten \"Toán học\".\n",
    "    ?gv s:hoTen ?hoTen.\n",
    "    BIND(strafter(strafter(?hoTen, \" \"), \" \") AS ?ten) .\n",
    "}\n",
    "ORDER BY ?ten\n",
    "\"\"\"))\n",
    "for x in result: print(x[0].hoTen)\n"
   ]
  },
  {
   "cell_type": "code",
   "execution_count": 12,
   "metadata": {},
   "outputs": [
    {
     "name": "stdout",
     "output_type": "stream",
     "text": [
      "sử dụng SPARQL để liệt kê các Giáo viên dạy lớp 10C03 theo thứ tự tên môn học\n",
      "Huỳnh Hoài Long Công nghệ 10C03\n",
      "Nguyễn Minh Vân GDCD 10C03\n",
      "Lâm Hữu Phương Hóa học 10C03\n",
      "Phạm Mai Tường Lịch sử 10C03\n",
      "Tôn Hồng Cường Ngữ văn 10C03\n",
      "Bùi Văn Khánh Sinh học 10C03\n",
      "Phan Thanh Vân Tiếng Anh 10C03\n",
      "Phùng Đình Thiện Toán học 10C03\n",
      "Đoàn Thị Phương Địa lý 10C03\n"
     ]
    }
   ],
   "source": [
    "print(\"sử dụng SPARQL để liệt kê các Giáo viên dạy lớp 10C03 theo thứ tự tên môn học\")\n",
    "result = list(default_world.sparql(\"\"\"\n",
    "PREFIX s: <http://hc.com/school#>\n",
    "SELECT ?day\n",
    "WHERE {\n",
    "    ?day a s:GiangDay.\n",
    "    ?day s:lopHoc ?lop.\n",
    "    ?lop s:ten \"10C03\".\n",
    "    ?day s:monHoc ?mon.\n",
    "    ?mon s:ten ?tenMon.\n",
    "}\n",
    "ORDER BY ?tenMon\n",
    "\"\"\"))\n",
    "for x in result: print(x[0].giaoVien.hoTen, x[0].monHoc.ten, x[0].lopHoc.ten)"
   ]
  },
  {
   "cell_type": "code",
   "execution_count": 18,
   "metadata": {},
   "outputs": [
    {
     "name": "stdout",
     "output_type": "stream",
     "text": [
      "sử dụng SPARQL để tìm tất cả các gv dạy 2 môn\n",
      "Tôn Hồng Cường 2 ['Toán học', 'Ngữ văn']\n",
      "Võ Anh Hoàng 2 ['Hóa học', 'Lịch sử']\n",
      "Bùi Văn Khánh 2 ['Lịch sử', 'Sinh học']\n",
      "Phan Thanh Vân 2 ['Địa lý', 'Tiếng Anh']\n",
      "Phạm Hoài Tú 2 ['Tiếng Anh', 'Công nghệ']\n"
     ]
    }
   ],
   "source": [
    "print(\"sử dụng SPARQL để tìm tất cả các gv dạy 2 môn\")\n",
    "result = list(default_world.sparql(\"\"\"\n",
    "PREFIX s: <http://hc.com/school#>\n",
    "SELECT ?gv (COUNT(?day) AS ?soMon)\n",
    "WHERE {\n",
    "    ?gv a s:GiaoVien.\n",
    "    ?gv s:dayMon ?day.\n",
    "}\n",
    "GROUP BY ?gv\n",
    "HAVING (COUNT(?day) > 1)\n",
    "\"\"\"))\n",
    "for x in result: print(x[0].hoTen, x[1], [mon.ten for mon in x[0].dayMon])"
   ]
  }
 ],
 "metadata": {
  "kernelspec": {
   "display_name": "OpenCV",
   "language": "python",
   "name": "python3"
  },
  "language_info": {
   "codemirror_mode": {
    "name": "ipython",
    "version": 3
   },
   "file_extension": ".py",
   "mimetype": "text/x-python",
   "name": "python",
   "nbconvert_exporter": "python",
   "pygments_lexer": "ipython3",
   "version": "3.9.16"
  },
  "orig_nbformat": 4
 },
 "nbformat": 4,
 "nbformat_minor": 2
}
