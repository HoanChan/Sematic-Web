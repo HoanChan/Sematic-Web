{
 "cells": [
  {
   "cell_type": "code",
   "execution_count": 7,
   "metadata": {},
   "outputs": [],
   "source": [
    "%run ../app/models/model.py\n",
    "# mở file owl\n",
    "onto = get_ontology(\"../app/data/education.owl\").load()"
   ]
  },
  {
   "cell_type": "code",
   "execution_count": 8,
   "metadata": {},
   "outputs": [],
   "source": [
    "%run ../app/models/rulers.py\n",
    "apply_rules(onto)"
   ]
  },
  {
   "cell_type": "code",
   "execution_count": 9,
   "metadata": {},
   "outputs": [
    {
     "name": "stdout",
     "output_type": "stream",
     "text": [
      "Lấy thông tin cha mẹ của học sinh\n",
      "Phùng Văn Hùng Tô Đình Hoàng\n",
      "Lấy thông tin phụ huynh của học sinh\n",
      "Phùng Văn Hùng\n",
      "Tô Đình Hoàng\n",
      "Lấy thông tin vợ/chồng của cha/mẹ của học sinh\n",
      "Phùng Văn Hùng Tô Đình Hoàng\n"
     ]
    }
   ],
   "source": [
    "hs = onto.search_one(type = onto.HocSinh)\n",
    "print('Lấy thông tin cha mẹ của học sinh')\n",
    "print(hs.cha.hoTen, hs.me.hoTen)\n",
    "print('Lấy thông tin phụ huynh của học sinh')\n",
    "for ph in hs.phuHuynh: print(ph.hoTen)\n",
    "print('Lấy thông tin vợ/chồng của cha/mẹ của học sinh')\n",
    "print(hs.me.chong.hoTen, hs.cha.vo.hoTen)\n"
   ]
  },
  {
   "cell_type": "code",
   "execution_count": 10,
   "metadata": {},
   "outputs": [
    {
     "name": "stdout",
     "output_type": "stream",
     "text": [
      "Trần Mai Quỳnh - Điểm TB: 7.98 - Học lực: Khá - Hạnh kiểm: Khá - Danh hiệu: Học sinh tiên tiến\n",
      "Tôn Quý Thiên - Điểm TB: 7.71 - Học lực: Khá - Hạnh kiểm: Khá - Danh hiệu: Học sinh tiên tiến\n",
      "Phạm Bảo Quỳnh - Điểm TB: 7.12 - Học lực: Khá - Hạnh kiểm: Khá - Danh hiệu: Học sinh tiên tiến\n",
      "Đoàn Hồng Hải - Điểm TB: 7.69 - Học lực: Khá - Hạnh kiểm: Khá - Danh hiệu: Học sinh tiên tiến\n",
      "Đào Hữu Việt - Điểm TB: 8.7 - Học lực: Giỏi - Hạnh kiểm: Khá - Danh hiệu: Học sinh giỏi\n",
      "Bành Thị Nhật - Điểm TB: 5.43 - Học lực: Trung bình - Hạnh kiểm: Khá - Danh hiệu: None\n",
      "Tăng Thu Hải - Điểm TB: 3.75 - Học lực: Yếu - Hạnh kiểm: Yếu - Danh hiệu: None\n",
      "Quách Hữu Quỳnh - Điểm TB: 6.98 - Học lực: Khá - Hạnh kiểm: Tốt - Danh hiệu: Học sinh tiên tiến\n",
      "Lương Hữu Hùng - Điểm TB: 6.85 - Học lực: Khá - Hạnh kiểm: Khá - Danh hiệu: Học sinh tiên tiến\n",
      "Hoàng Quốc Tú - Điểm TB: 6.87 - Học lực: Khá - Hạnh kiểm: Tốt - Danh hiệu: Học sinh tiên tiến\n",
      "Đặng Thanh Việt - Điểm TB: 8.35 - Học lực: Giỏi - Hạnh kiểm: Khá - Danh hiệu: Học sinh giỏi\n",
      "Trần Minh Sơn - Điểm TB: 4.66 - Học lực: Yếu - Hạnh kiểm: Yếu - Danh hiệu: None\n",
      "Lương Văn Thiên - Điểm TB: 4.25 - Học lực: Yếu - Hạnh kiểm: Trung bình - Danh hiệu: None\n",
      "Ngô Minh Ngọc - Điểm TB: 7.37 - Học lực: Khá - Hạnh kiểm: Khá - Danh hiệu: Học sinh tiên tiến\n",
      "Trần Thanh Thảo - Điểm TB: 5.26 - Học lực: Trung bình - Hạnh kiểm: Khá - Danh hiệu: None\n",
      "Mai Thu Minh - Điểm TB: 7.56 - Học lực: Khá - Hạnh kiểm: Tốt - Danh hiệu: Học sinh tiên tiến\n",
      "Thái Đình Quân - Điểm TB: 8.0 - Học lực: Giỏi - Hạnh kiểm: Khá - Danh hiệu: Học sinh giỏi\n",
      "Thái Hữu Vinh - Điểm TB: 5.19 - Học lực: Trung bình - Hạnh kiểm: Trung bình - Danh hiệu: None\n",
      "Bùi Thanh Tú - Điểm TB: 8.87 - Học lực: Giỏi - Hạnh kiểm: Tốt - Danh hiệu: Học sinh giỏi\n",
      "Tô Hữu Tùng - Điểm TB: 8.95 - Học lực: Giỏi - Hạnh kiểm: Tốt - Danh hiệu: Học sinh giỏi\n",
      "Tạ Hoài Minh - Điểm TB: 6.96 - Học lực: Khá - Hạnh kiểm: Khá - Danh hiệu: Học sinh tiên tiến\n",
      "Đỗ Anh Hải - Điểm TB: 6.36 - Học lực: Trung bình - Hạnh kiểm: Trung bình - Danh hiệu: None\n",
      "Trương Ngọc Vinh - Điểm TB: 4.46 - Học lực: Yếu - Hạnh kiểm: Trung bình - Danh hiệu: None\n",
      "Đào Hồng Quang - Điểm TB: 8.84 - Học lực: Giỏi - Hạnh kiểm: Khá - Danh hiệu: Học sinh giỏi\n",
      "Phùng Văn Quang - Điểm TB: 3.86 - Học lực: Yếu - Hạnh kiểm: Trung bình - Danh hiệu: None\n",
      "Lê Hoài Nhật - Điểm TB: 6.9 - Học lực: Khá - Hạnh kiểm: Tốt - Danh hiệu: Học sinh tiên tiến\n",
      "Vũ Kim Linh - Điểm TB: 9.35 - Học lực: Giỏi - Hạnh kiểm: Tốt - Danh hiệu: Học sinh giỏi\n",
      "Đặng Kim Linh - Điểm TB: 4.82 - Học lực: Yếu - Hạnh kiểm: Yếu - Danh hiệu: None\n",
      "Tôn Thị Vân - Điểm TB: 8.02 - Học lực: Giỏi - Hạnh kiểm: Tốt - Danh hiệu: Học sinh giỏi\n",
      "Đoàn Kim Minh - Điểm TB: 8.03 - Học lực: Giỏi - Hạnh kiểm: Khá - Danh hiệu: Học sinh giỏi\n",
      "Bành Hoài Linh - Điểm TB: 6.23 - Học lực: Trung bình - Hạnh kiểm: Khá - Danh hiệu: None\n",
      "Trương Quốc Minh - Điểm TB: 8.66 - Học lực: Giỏi - Hạnh kiểm: Khá - Danh hiệu: Học sinh giỏi\n",
      "Đỗ Hữu Sơn - Điểm TB: 4.68 - Học lực: Yếu - Hạnh kiểm: Yếu - Danh hiệu: None\n",
      "Phan Quốc Thuận - Điểm TB: 5.5 - Học lực: Trung bình - Hạnh kiểm: Trung bình - Danh hiệu: None\n",
      "Phan Hồng Minh - Điểm TB: 5.16 - Học lực: Trung bình - Hạnh kiểm: Khá - Danh hiệu: None\n",
      "Ngô Quý Hiền - Điểm TB: 8.88 - Học lực: Giỏi - Hạnh kiểm: Tốt - Danh hiệu: Học sinh giỏi\n",
      "Quách Thị Nhật - Điểm TB: 4.1 - Học lực: Yếu - Hạnh kiểm: Trung bình - Danh hiệu: None\n",
      "Đoàn Mai Việt - Điểm TB: 3.51 - Học lực: Yếu - Hạnh kiểm: Trung bình - Danh hiệu: None\n",
      "Dương Quý Vân - Điểm TB: 4.86 - Học lực: Yếu - Hạnh kiểm: Yếu - Danh hiệu: None\n",
      "Nguyễn Bảo Thuận - Điểm TB: 6.75 - Học lực: Khá - Hạnh kiểm: Khá - Danh hiệu: Học sinh tiên tiến\n",
      "Trương Thị Cường - Điểm TB: 8.68 - Học lực: Giỏi - Hạnh kiểm: Khá - Danh hiệu: Học sinh giỏi\n",
      "Hồ Hữu Bình - Điểm TB: 4.6 - Học lực: Yếu - Hạnh kiểm: Trung bình - Danh hiệu: None\n",
      "Lương Hữu Quỳnh - Điểm TB: 3.72 - Học lực: Yếu - Hạnh kiểm: Yếu - Danh hiệu: None\n",
      "Quách Văn Dũng - Điểm TB: 8.34 - Học lực: Giỏi - Hạnh kiểm: Khá - Danh hiệu: Học sinh giỏi\n",
      "Hoàng Quý Thiên - Điểm TB: 8.65 - Học lực: Giỏi - Hạnh kiểm: Tốt - Danh hiệu: Học sinh giỏi\n"
     ]
    }
   ],
   "source": [
    "for hs in onto.HocSinh.instances():\n",
    "    print(hs.hoTen, '- Điểm TB:', hs.diemTB, '- Học lực:', hs.hocLuc, '- Hạnh kiểm:', hs.hanhKiem, '- Danh hiệu:', hs.danhHieu)"
   ]
  },
  {
   "cell_type": "code",
   "execution_count": 11,
   "metadata": {},
   "outputs": [
    {
     "name": "stdout",
     "output_type": "stream",
     "text": [
      "Lập danh sách HS có anh em\n",
      "Trần Mai Quỳnh\n",
      "   - Chị: Lê Hoài Nhật có em là Trần Mai Quỳnh\n",
      "Tôn Quý Thiên\n",
      "   - Anh: Lương Hữu Quỳnh có em là Tôn Quý Thiên\n",
      "Phạm Bảo Quỳnh\n",
      "   - Anh: Trần Minh Sơn có em là Phạm Bảo Quỳnh\n",
      "Đoàn Hồng Hải\n",
      "   - Chị: Lương Văn Thiên có em là Đoàn Hồng Hải\n",
      "Đào Hữu Việt\n",
      "   - Anh: Tăng Thu Hải có em là Đào Hữu Việt\n",
      "Quách Hữu Quỳnh\n",
      "   - Anh: Đỗ Anh Hải có em là Quách Hữu Quỳnh\n",
      "Trần Thanh Thảo\n",
      "   - Chị: Quách Thị Nhật có em là Trần Thanh Thảo\n",
      "Thái Đình Quân\n",
      "   - Anh: Phùng Văn Quang có em là Thái Đình Quân\n",
      "Thái Hữu Vinh\n",
      "   - Anh: Đoàn Mai Việt có em là Thái Hữu Vinh\n",
      "Tô Hữu Tùng\n",
      "   - Anh: Đặng Kim Linh có em là Tô Hữu Tùng\n",
      "Tạ Hoài Minh\n",
      "   - Chị: Vũ Kim Linh có em là Tạ Hoài Minh\n",
      "Đoàn Kim Minh\n",
      "   - Chị: Đào Hồng Quang có em là Đoàn Kim Minh\n",
      "Trương Quốc Minh\n",
      "   - Anh: Phan Hồng Minh có em là Trương Quốc Minh\n",
      "Đỗ Hữu Sơn\n",
      "   - Anh: Ngô Minh Ngọc có em là Đỗ Hữu Sơn\n",
      "Ngô Quý Hiền\n",
      "   - Anh: Phan Quốc Thuận có em là Ngô Quý Hiền\n",
      "Dương Quý Vân\n",
      "   - Anh: Tôn Thị Vân có em là Dương Quý Vân\n",
      "Nguyễn Bảo Thuận\n",
      "   - Anh: Đặng Thanh Việt có em là Nguyễn Bảo Thuận\n",
      "Trương Thị Cường\n",
      "   - Chị: Mai Thu Minh có em là Trương Thị Cường\n",
      "Hồ Hữu Bình\n",
      "   - Anh: Bành Hoài Linh có em là Hồ Hữu Bình\n",
      "Hoàng Quý Thiên\n",
      "   - Anh: Trương Ngọc Vinh có em là Hoàng Quý Thiên\n"
     ]
    }
   ],
   "source": [
    "print('Lập danh sách HS có anh em')\n",
    "for hs in onto.HocSinh.instances():\n",
    "    if len(hs.anh) > 0 or len(hs.chi) > 0:\n",
    "        print(hs.hoTen)\n",
    "        if len(hs.anh) > 0:\n",
    "            for anh in hs.anh: print('   - Anh:', anh.hoTen, 'có em là', *[em.hoTen for em in anh.em])\n",
    "        if len(hs.chi) > 0:\n",
    "            for chi in hs.chi: print('   - Chị:', chi.hoTen, 'có em là', *[em.hoTen for em in chi.em])"
   ]
  }
 ],
 "metadata": {
  "kernelspec": {
   "display_name": "OpenCV",
   "language": "python",
   "name": "python3"
  },
  "language_info": {
   "codemirror_mode": {
    "name": "ipython",
    "version": 3
   },
   "file_extension": ".py",
   "mimetype": "text/x-python",
   "name": "python",
   "nbconvert_exporter": "python",
   "pygments_lexer": "ipython3",
   "version": "3.9.16"
  },
  "orig_nbformat": 4
 },
 "nbformat": 4,
 "nbformat_minor": 2
}
