{
 "cells": [
  {
   "cell_type": "code",
   "execution_count": 1,
   "metadata": {},
   "outputs": [
    {
     "name": "stderr",
     "output_type": "stream",
     "text": [
      "* Owlready2 * Warning: optimized Cython parser module 'owlready2_optimized' is not available, defaulting to slower Python implementation\n"
     ]
    }
   ],
   "source": [
    "%run ../app/models/model.py\n",
    "%run ../app/models/ruler.py"
   ]
  },
  {
   "cell_type": "code",
   "execution_count": 2,
   "metadata": {},
   "outputs": [],
   "source": [
    "from owlready2 import *\n",
    "onto = get_ontology(\"../app/data/education.owl\").load()"
   ]
  },
  {
   "cell_type": "code",
   "execution_count": 3,
   "metadata": {},
   "outputs": [
    {
     "name": "stdout",
     "output_type": "stream",
     "text": [
      "PhuHuynh(?ph), gioiTinh(?ph, 'Nam'), con(?ph, ?hs) -> cha(?ph, ?hs)\n",
      "PhuHuynh(?ph), gioiTinh(?ph, 'Nữ'), con(?ph, ?hs) -> me(?ph, ?hs)\n",
      "HocSinh(?hs1), HocSinh(?hs2), PhuHuynh(?ph), con(?ph, ?hs1), con(?ph, ?hs2), DifferentFrom(?hs1, ?hs2) -> anhEm(?hs1, ?hs2)\n"
     ]
    }
   ],
   "source": [
    "\n",
    "with onto:\n",
    "    class me(HocSinh >> PhuHuynh, FunctionalProperty): pass\n",
    "    class cha(HocSinh >> PhuHuynh, FunctionalProperty): pass\n",
    "    class anhEm(HocSinh >> HocSinh): pass\n",
    "    rule = Imp()\n",
    "    rule.set_as_rule('''PhuHuynh(?ph) ^ gioiTinh(?ph, \"Nam\") ^ con(?ph, ?hs)-> cha(?ph, ?hs)''')\n",
    "    print(rule)\n",
    "    rule = Imp()\n",
    "    rule.set_as_rule('''PhuHuynh(?ph) ^ gioiTinh(?ph, \"Nữ\") ^ con(?ph, ?hs)-> me(?ph, ?hs)''')\n",
    "    print(rule)\n",
    "    rule = Imp()\n",
    "    rule.set_as_rule('''HocSinh(?hs1) ^ HocSinh(?hs2) ^ PhuHuynh(?ph) ^ con(?ph, ?hs1) ^ con(?ph, ?hs2) ^ differentFrom(?hs1, ?hs2) -> anhEm(?hs1, ?hs2)''')\n",
    "    print(rule)"
   ]
  },
  {
   "cell_type": "code",
   "execution_count": 4,
   "metadata": {},
   "outputs": [
    {
     "name": "stderr",
     "output_type": "stream",
     "text": [
      "* Owlready2 * Running Pellet...\n",
      "    D:\\SOFTS\\Anacoda\\envs\\OpenCV\\Library\\bin\\java.exe -Xmx2000M -cp d:\\SOFTS\\Anacoda\\envs\\OpenCV\\lib\\site-packages\\owlready2\\pellet\\antlr-3.2.jar;d:\\SOFTS\\Anacoda\\envs\\OpenCV\\lib\\site-packages\\owlready2\\pellet\\antlr-runtime-3.2.jar;d:\\SOFTS\\Anacoda\\envs\\OpenCV\\lib\\site-packages\\owlready2\\pellet\\aterm-java-1.6.jar;d:\\SOFTS\\Anacoda\\envs\\OpenCV\\lib\\site-packages\\owlready2\\pellet\\commons-codec-1.6.jar;d:\\SOFTS\\Anacoda\\envs\\OpenCV\\lib\\site-packages\\owlready2\\pellet\\httpclient-4.2.3.jar;d:\\SOFTS\\Anacoda\\envs\\OpenCV\\lib\\site-packages\\owlready2\\pellet\\httpcore-4.2.2.jar;d:\\SOFTS\\Anacoda\\envs\\OpenCV\\lib\\site-packages\\owlready2\\pellet\\jcl-over-slf4j-1.6.4.jar;d:\\SOFTS\\Anacoda\\envs\\OpenCV\\lib\\site-packages\\owlready2\\pellet\\jena-arq-2.10.0.jar;d:\\SOFTS\\Anacoda\\envs\\OpenCV\\lib\\site-packages\\owlready2\\pellet\\jena-core-2.10.0.jar;d:\\SOFTS\\Anacoda\\envs\\OpenCV\\lib\\site-packages\\owlready2\\pellet\\jena-iri-0.9.5.jar;d:\\SOFTS\\Anacoda\\envs\\OpenCV\\lib\\site-packages\\owlready2\\pellet\\jena-tdb-0.10.0.jar;d:\\SOFTS\\Anacoda\\envs\\OpenCV\\lib\\site-packages\\owlready2\\pellet\\jgrapht-jdk1.5.jar;d:\\SOFTS\\Anacoda\\envs\\OpenCV\\lib\\site-packages\\owlready2\\pellet\\log4j-1.2-api-2.19.0.jar;d:\\SOFTS\\Anacoda\\envs\\OpenCV\\lib\\site-packages\\owlready2\\pellet\\log4j-api-2.19.0.jar;d:\\SOFTS\\Anacoda\\envs\\OpenCV\\lib\\site-packages\\owlready2\\pellet\\log4j-core-2.19.0.jar;d:\\SOFTS\\Anacoda\\envs\\OpenCV\\lib\\site-packages\\owlready2\\pellet\\owlapi-distribution-3.4.3-bin.jar;d:\\SOFTS\\Anacoda\\envs\\OpenCV\\lib\\site-packages\\owlready2\\pellet\\pellet-2.3.1.jar;d:\\SOFTS\\Anacoda\\envs\\OpenCV\\lib\\site-packages\\owlready2\\pellet\\slf4j-api-1.6.4.jar;d:\\SOFTS\\Anacoda\\envs\\OpenCV\\lib\\site-packages\\owlready2\\pellet\\slf4j-log4j12-1.6.4.jar;d:\\SOFTS\\Anacoda\\envs\\OpenCV\\lib\\site-packages\\owlready2\\pellet\\xercesImpl-2.10.0.jar;d:\\SOFTS\\Anacoda\\envs\\OpenCV\\lib\\site-packages\\owlready2\\pellet\\xml-apis-1.4.01.jar pellet.Pellet realize --loader Jena --input-format N-Triples --infer-prop-values --infer-data-prop-values --ignore-imports C:\\Users\\LHONCH~1\\AppData\\Local\\Temp\\tmp_3bfaldg\n"
     ]
    },
    {
     "ename": "OwlReadyInconsistentOntologyError",
     "evalue": "Java error message is: ERROR: Ontology is inconsistent, run \"pellet explain\" to get the reason\r\n",
     "output_type": "error",
     "traceback": [
      "\u001b[1;31m---------------------------------------------------------------------------\u001b[0m",
      "\u001b[1;31mCalledProcessError\u001b[0m                        Traceback (most recent call last)",
      "File \u001b[1;32md:\\SOFTS\\Anacoda\\envs\\OpenCV\\lib\\site-packages\\owlready2\\reasoning.py:260\u001b[0m, in \u001b[0;36msync_reasoner_pellet\u001b[1;34m(x, infer_property_values, infer_data_property_values, debug, keep_tmp_file)\u001b[0m\n\u001b[0;32m    259\u001b[0m \u001b[39mtry\u001b[39;00m:\n\u001b[1;32m--> 260\u001b[0m   output \u001b[39m=\u001b[39m subprocess\u001b[39m.\u001b[39mrun(command, stdout \u001b[39m=\u001b[39m subprocess\u001b[39m.\u001b[39mPIPE, stderr \u001b[39m=\u001b[39m subprocess\u001b[39m.\u001b[39mPIPE, check \u001b[39m=\u001b[39m \u001b[39mTrue\u001b[39;00m, \u001b[39m*\u001b[39m\u001b[39m*\u001b[39m_subprocess_kargs)\u001b[39m.\u001b[39mstdout\n\u001b[0;32m    261\u001b[0m \u001b[39mexcept\u001b[39;00m subprocess\u001b[39m.\u001b[39mCalledProcessError \u001b[39mas\u001b[39;00m e:\n",
      "File \u001b[1;32md:\\SOFTS\\Anacoda\\envs\\OpenCV\\lib\\subprocess.py:528\u001b[0m, in \u001b[0;36mrun\u001b[1;34m(input, capture_output, timeout, check, *popenargs, **kwargs)\u001b[0m\n\u001b[0;32m    527\u001b[0m     \u001b[39mif\u001b[39;00m check \u001b[39mand\u001b[39;00m retcode:\n\u001b[1;32m--> 528\u001b[0m         \u001b[39mraise\u001b[39;00m CalledProcessError(retcode, process\u001b[39m.\u001b[39margs,\n\u001b[0;32m    529\u001b[0m                                  output\u001b[39m=\u001b[39mstdout, stderr\u001b[39m=\u001b[39mstderr)\n\u001b[0;32m    530\u001b[0m \u001b[39mreturn\u001b[39;00m CompletedProcess(process\u001b[39m.\u001b[39margs, retcode, stdout, stderr)\n",
      "\u001b[1;31mCalledProcessError\u001b[0m: Command '['D:\\\\SOFTS\\\\Anacoda\\\\envs\\\\OpenCV\\\\Library\\\\bin\\\\java.exe', '-Xmx2000M', '-cp', 'd:\\\\SOFTS\\\\Anacoda\\\\envs\\\\OpenCV\\\\lib\\\\site-packages\\\\owlready2\\\\pellet\\\\antlr-3.2.jar;d:\\\\SOFTS\\\\Anacoda\\\\envs\\\\OpenCV\\\\lib\\\\site-packages\\\\owlready2\\\\pellet\\\\antlr-runtime-3.2.jar;d:\\\\SOFTS\\\\Anacoda\\\\envs\\\\OpenCV\\\\lib\\\\site-packages\\\\owlready2\\\\pellet\\\\aterm-java-1.6.jar;d:\\\\SOFTS\\\\Anacoda\\\\envs\\\\OpenCV\\\\lib\\\\site-packages\\\\owlready2\\\\pellet\\\\commons-codec-1.6.jar;d:\\\\SOFTS\\\\Anacoda\\\\envs\\\\OpenCV\\\\lib\\\\site-packages\\\\owlready2\\\\pellet\\\\httpclient-4.2.3.jar;d:\\\\SOFTS\\\\Anacoda\\\\envs\\\\OpenCV\\\\lib\\\\site-packages\\\\owlready2\\\\pellet\\\\httpcore-4.2.2.jar;d:\\\\SOFTS\\\\Anacoda\\\\envs\\\\OpenCV\\\\lib\\\\site-packages\\\\owlready2\\\\pellet\\\\jcl-over-slf4j-1.6.4.jar;d:\\\\SOFTS\\\\Anacoda\\\\envs\\\\OpenCV\\\\lib\\\\site-packages\\\\owlready2\\\\pellet\\\\jena-arq-2.10.0.jar;d:\\\\SOFTS\\\\Anacoda\\\\envs\\\\OpenCV\\\\lib\\\\site-packages\\\\owlready2\\\\pellet\\\\jena-core-2.10.0.jar;d:\\\\SOFTS\\\\Anacoda\\\\envs\\\\OpenCV\\\\lib\\\\site-packages\\\\owlready2\\\\pellet\\\\jena-iri-0.9.5.jar;d:\\\\SOFTS\\\\Anacoda\\\\envs\\\\OpenCV\\\\lib\\\\site-packages\\\\owlready2\\\\pellet\\\\jena-tdb-0.10.0.jar;d:\\\\SOFTS\\\\Anacoda\\\\envs\\\\OpenCV\\\\lib\\\\site-packages\\\\owlready2\\\\pellet\\\\jgrapht-jdk1.5.jar;d:\\\\SOFTS\\\\Anacoda\\\\envs\\\\OpenCV\\\\lib\\\\site-packages\\\\owlready2\\\\pellet\\\\log4j-1.2-api-2.19.0.jar;d:\\\\SOFTS\\\\Anacoda\\\\envs\\\\OpenCV\\\\lib\\\\site-packages\\\\owlready2\\\\pellet\\\\log4j-api-2.19.0.jar;d:\\\\SOFTS\\\\Anacoda\\\\envs\\\\OpenCV\\\\lib\\\\site-packages\\\\owlready2\\\\pellet\\\\log4j-core-2.19.0.jar;d:\\\\SOFTS\\\\Anacoda\\\\envs\\\\OpenCV\\\\lib\\\\site-packages\\\\owlready2\\\\pellet\\\\owlapi-distribution-3.4.3-bin.jar;d:\\\\SOFTS\\\\Anacoda\\\\envs\\\\OpenCV\\\\lib\\\\site-packages\\\\owlready2\\\\pellet\\\\pellet-2.3.1.jar;d:\\\\SOFTS\\\\Anacoda\\\\envs\\\\OpenCV\\\\lib\\\\site-packages\\\\owlready2\\\\pellet\\\\slf4j-api-1.6.4.jar;d:\\\\SOFTS\\\\Anacoda\\\\envs\\\\OpenCV\\\\lib\\\\site-packages\\\\owlready2\\\\pellet\\\\slf4j-log4j12-1.6.4.jar;d:\\\\SOFTS\\\\Anacoda\\\\envs\\\\OpenCV\\\\lib\\\\site-packages\\\\owlready2\\\\pellet\\\\xercesImpl-2.10.0.jar;d:\\\\SOFTS\\\\Anacoda\\\\envs\\\\OpenCV\\\\lib\\\\site-packages\\\\owlready2\\\\pellet\\\\xml-apis-1.4.01.jar', 'pellet.Pellet', 'realize', '--loader', 'Jena', '--input-format', 'N-Triples', '--infer-prop-values', '--infer-data-prop-values', '--ignore-imports', 'C:\\\\Users\\\\LHONCH~1\\\\AppData\\\\Local\\\\Temp\\\\tmp_3bfaldg']' returned non-zero exit status 1.",
      "\nDuring handling of the above exception, another exception occurred:\n",
      "\u001b[1;31mOwlReadyInconsistentOntologyError\u001b[0m         Traceback (most recent call last)",
      "Cell \u001b[1;32mIn[4], line 4\u001b[0m\n\u001b[0;32m      2\u001b[0m owlready2\u001b[39m.\u001b[39mJAVA_EXE \u001b[39m=\u001b[39m \u001b[39m'\u001b[39m\u001b[39mD:\u001b[39m\u001b[39m\\\\\u001b[39;00m\u001b[39mSOFTS\u001b[39m\u001b[39m\\\\\u001b[39;00m\u001b[39mAnacoda\u001b[39m\u001b[39m\\\\\u001b[39;00m\u001b[39menvs\u001b[39m\u001b[39m\\\\\u001b[39;00m\u001b[39mOpenCV\u001b[39m\u001b[39m\\\\\u001b[39;00m\u001b[39mLibrary\u001b[39m\u001b[39m\\\\\u001b[39;00m\u001b[39mbin\u001b[39m\u001b[39m\\\\\u001b[39;00m\u001b[39mjava.exe\u001b[39m\u001b[39m'\u001b[39m\n\u001b[0;32m      3\u001b[0m \u001b[39mwith\u001b[39;00m onto:\n\u001b[1;32m----> 4\u001b[0m     sync_reasoner_pellet(infer_property_values \u001b[39m=\u001b[39;49m \u001b[39mTrue\u001b[39;49;00m, infer_data_property_values \u001b[39m=\u001b[39;49m \u001b[39mTrue\u001b[39;49;00m)\n",
      "File \u001b[1;32md:\\SOFTS\\Anacoda\\envs\\OpenCV\\lib\\site-packages\\owlready2\\reasoning.py:270\u001b[0m, in \u001b[0;36msync_reasoner_pellet\u001b[1;34m(x, infer_property_values, infer_data_property_values, debug, keep_tmp_file)\u001b[0m\n\u001b[0;32m    267\u001b[0m     process \u001b[39m=\u001b[39m subprocess\u001b[39m.\u001b[39mrun(command_explain, stdout \u001b[39m=\u001b[39m subprocess\u001b[39m.\u001b[39mPIPE, stderr \u001b[39m=\u001b[39m subprocess\u001b[39m.\u001b[39mPIPE, check \u001b[39m=\u001b[39m \u001b[39mFalse\u001b[39;00m, \u001b[39m*\u001b[39m\u001b[39m*\u001b[39m_subprocess_kargs)\n\u001b[0;32m    268\u001b[0m     msg \u001b[39m+\u001b[39m\u001b[39m=\u001b[39m \u001b[39m\"\u001b[39m\u001b[39m\\n\u001b[39;00m\u001b[39mThis is the output of `pellet explain`: \u001b[39m\u001b[39m\\n\u001b[39;00m\u001b[39m \u001b[39m\u001b[39m{}\u001b[39;00m\u001b[39m\\n\u001b[39;00m\u001b[39m{}\u001b[39;00m\u001b[39m\"\u001b[39m\u001b[39m.\u001b[39mformat(_decode(process\u001b[39m.\u001b[39mstdout), _decode(process\u001b[39m.\u001b[39mstderr))\n\u001b[1;32m--> 270\u001b[0m   \u001b[39mraise\u001b[39;00m OwlReadyInconsistentOntologyError(\u001b[39m\"\u001b[39m\u001b[39mJava error message is: \u001b[39m\u001b[39m%s\u001b[39;00m\u001b[39m\"\u001b[39m \u001b[39m%\u001b[39m msg)\n\u001b[0;32m    272\u001b[0m \u001b[39melse\u001b[39;00m:\n\u001b[0;32m    273\u001b[0m   \u001b[39mraise\u001b[39;00m OwlReadyJavaError(\u001b[39m\"\u001b[39m\u001b[39mJava error message is:\u001b[39m\u001b[39m\\n\u001b[39;00m\u001b[39m%s\u001b[39;00m\u001b[39m\"\u001b[39m \u001b[39m%\u001b[39m _decode((e\u001b[39m.\u001b[39mstderr \u001b[39mor\u001b[39;00m e\u001b[39m.\u001b[39moutput \u001b[39mor\u001b[39;00m \u001b[39mb\u001b[39m\u001b[39m\"\u001b[39m\u001b[39m\"\u001b[39m)))\n",
      "\u001b[1;31mOwlReadyInconsistentOntologyError\u001b[0m: Java error message is: ERROR: Ontology is inconsistent, run \"pellet explain\" to get the reason\r\n"
     ]
    }
   ],
   "source": [
    "from owlready2 import *\n",
    "owlready2.JAVA_EXE = 'D:\\\\SOFTS\\\\Anacoda\\\\envs\\\\OpenCV\\\\Library\\\\bin\\\\java.exe'\n",
    "with onto:\n",
    "    sync_reasoner_pellet(infer_property_values = True, infer_data_property_values = True) # Chạy reasoner để suy luận dữ liệu trong ontology và đồng bộ hóa dữ liệu giữa các lớp \n",
    "    # sync_reasoner()\n",
    "    "
   ]
  },
  {
   "cell_type": "code",
   "execution_count": null,
   "metadata": {},
   "outputs": [],
   "source": [
    "for hs in onto.HocSinh.instances():\n",
    "        print(hs.cha, hs.me, hs.anhEm)"
   ]
  }
 ],
 "metadata": {
  "kernelspec": {
   "display_name": "OpenCV",
   "language": "python",
   "name": "python3"
  },
  "language_info": {
   "codemirror_mode": {
    "name": "ipython",
    "version": 3
   },
   "file_extension": ".py",
   "mimetype": "text/x-python",
   "name": "python",
   "nbconvert_exporter": "python",
   "pygments_lexer": "ipython3",
   "version": "3.9.16"
  },
  "orig_nbformat": 4
 },
 "nbformat": 4,
 "nbformat_minor": 2
}
